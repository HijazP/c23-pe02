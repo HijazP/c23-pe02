{
 "cells": [
  {
   "cell_type": "code",
   "execution_count": 1,
   "id": "b285974d-8436-4214-a723-80f46d688423",
   "metadata": {},
   "outputs": [
    {
     "name": "stderr",
     "output_type": "stream",
     "text": [
      "2023-06-03 18:28:37.164960: I tensorflow/core/util/port.cc:110] oneDNN custom operations are on. You may see slightly different numerical results due to floating-point round-off errors from different computation orders. To turn them off, set the environment variable `TF_ENABLE_ONEDNN_OPTS=0`.\n",
      "2023-06-03 18:28:37.320980: I tensorflow/core/platform/cpu_feature_guard.cc:182] This TensorFlow binary is optimized to use available CPU instructions in performance-critical operations.\n",
      "To enable the following instructions: AVX2 AVX_VNNI FMA, in other operations, rebuild TensorFlow with the appropriate compiler flags.\n"
     ]
    }
   ],
   "source": [
    "import pandas as pd\n",
    "import tensorflow as tf\n",
    "from tensorflow.keras.models import Sequential\n",
    "from tensorflow.keras.layers import Dense, Dropout\n",
    "from sklearn.feature_extraction.text import TfidfVectorizer\n",
    "from sklearn.metrics.pairwise import cosine_similarity"
   ]
  },
  {
   "cell_type": "code",
   "execution_count": 3,
   "id": "90950876-20e3-4a86-9c0b-7389c10b25ec",
   "metadata": {},
   "outputs": [],
   "source": [
    "# Define the dataset\n",
    "course = pd.read_csv('course_clean.csv')\n",
    "course.set_index('judul', inplace=True)"
   ]
  },
  {
   "cell_type": "code",
   "execution_count": 4,
   "id": "d6a0c226-2c5f-4af3-b41d-88ab25fc9c71",
   "metadata": {},
   "outputs": [],
   "source": [
    "# Create TF-IDF vectorizer\n",
    "tf = TfidfVectorizer(analyzer='word', ngram_range=(1, 3), min_df=0, stop_words='english')\n",
    "tfidf_matrix = tf.fit_transform(course['summary'])\n",
    "cos_sim = cosine_similarity(tfidf_matrix, tfidf_matrix)"
   ]
  },
  {
   "cell_type": "code",
   "execution_count": 5,
   "id": "24eae817-fbd7-4d56-8a25-d0a7627ae783",
   "metadata": {},
   "outputs": [],
   "source": [
    "# Train the neural network model\n",
    "def train_model(cos_sim, tfidf_matrix):\n",
    "    input_data = cos_sim.reshape(len(dataset1), -1)\n",
    "    output_data = tfidf_matrix.toarray()\n",
    "\n",
    "    # Define the neural network model\n",
    "    model = Sequential()\n",
    "    model.add(Dense(32, activation='relu', input_shape=(input_data.shape[1],)))\n",
    "    model.add(Dropout(0.2))\n",
    "    model.add(Dense(64, activation='relu'))\n",
    "    model.add(Dense(output_data.shape[1], activation='linear'))\n",
    "\n",
    "    # Compile the model\n",
    "    model.compile(loss='mse', optimizer='adam')\n",
    "\n",
    "    # Train the model\n",
    "    model.fit(input_data, output_data, epochs=10, batch_size=32)\n",
    "\n",
    "    return model"
   ]
  },
  {
   "cell_type": "code",
   "execution_count": 6,
   "id": "6a2d6d4d-52a2-4a5a-9016-6e2ca567b133",
   "metadata": {},
   "outputs": [
    {
     "name": "stderr",
     "output_type": "stream",
     "text": [
      "2023-06-03 18:29:40.267393: I tensorflow/compiler/xla/stream_executor/cuda/cuda_gpu_executor.cc:982] could not open file to read NUMA node: /sys/bus/pci/devices/0000:01:00.0/numa_node\n",
      "Your kernel may have been built without NUMA support.\n",
      "2023-06-03 18:29:40.301529: I tensorflow/compiler/xla/stream_executor/cuda/cuda_gpu_executor.cc:982] could not open file to read NUMA node: /sys/bus/pci/devices/0000:01:00.0/numa_node\n",
      "Your kernel may have been built without NUMA support.\n",
      "2023-06-03 18:29:40.301568: I tensorflow/compiler/xla/stream_executor/cuda/cuda_gpu_executor.cc:982] could not open file to read NUMA node: /sys/bus/pci/devices/0000:01:00.0/numa_node\n",
      "Your kernel may have been built without NUMA support.\n",
      "2023-06-03 18:29:40.305873: I tensorflow/compiler/xla/stream_executor/cuda/cuda_gpu_executor.cc:982] could not open file to read NUMA node: /sys/bus/pci/devices/0000:01:00.0/numa_node\n",
      "Your kernel may have been built without NUMA support.\n",
      "2023-06-03 18:29:40.305948: I tensorflow/compiler/xla/stream_executor/cuda/cuda_gpu_executor.cc:982] could not open file to read NUMA node: /sys/bus/pci/devices/0000:01:00.0/numa_node\n",
      "Your kernel may have been built without NUMA support.\n",
      "2023-06-03 18:29:40.305962: I tensorflow/compiler/xla/stream_executor/cuda/cuda_gpu_executor.cc:982] could not open file to read NUMA node: /sys/bus/pci/devices/0000:01:00.0/numa_node\n",
      "Your kernel may have been built without NUMA support.\n",
      "2023-06-03 18:29:41.652051: I tensorflow/compiler/xla/stream_executor/cuda/cuda_gpu_executor.cc:982] could not open file to read NUMA node: /sys/bus/pci/devices/0000:01:00.0/numa_node\n",
      "Your kernel may have been built without NUMA support.\n",
      "2023-06-03 18:29:41.652519: I tensorflow/compiler/xla/stream_executor/cuda/cuda_gpu_executor.cc:982] could not open file to read NUMA node: /sys/bus/pci/devices/0000:01:00.0/numa_node\n",
      "Your kernel may have been built without NUMA support.\n",
      "2023-06-03 18:29:41.652527: I tensorflow/core/common_runtime/gpu/gpu_device.cc:1722] Could not identify NUMA node of platform GPU id 0, defaulting to 0.  Your kernel may not have been built with NUMA support.\n",
      "2023-06-03 18:29:41.652544: I tensorflow/compiler/xla/stream_executor/cuda/cuda_gpu_executor.cc:982] could not open file to read NUMA node: /sys/bus/pci/devices/0000:01:00.0/numa_node\n",
      "Your kernel may have been built without NUMA support.\n",
      "2023-06-03 18:29:41.653402: I tensorflow/core/common_runtime/gpu/gpu_device.cc:1635] Created device /job:localhost/replica:0/task:0/device:GPU:0 with 1562 MB memory:  -> device: 0, name: NVIDIA GeForce RTX 3050 Laptop GPU, pci bus id: 0000:01:00.0, compute capability: 8.6\n"
     ]
    },
    {
     "name": "stdout",
     "output_type": "stream",
     "text": [
      "Epoch 1/10\n"
     ]
    },
    {
     "name": "stderr",
     "output_type": "stream",
     "text": [
      "2023-06-03 18:29:49.504854: I tensorflow/compiler/xla/stream_executor/cuda/cuda_blas.cc:637] TensorFloat-32 will be used for the matrix multiplication. This will only be logged once.\n",
      "2023-06-03 18:29:49.599454: I tensorflow/compiler/xla/service/service.cc:169] XLA service 0x7f4420045520 initialized for platform CUDA (this does not guarantee that XLA will be used). Devices:\n",
      "2023-06-03 18:29:49.599489: I tensorflow/compiler/xla/service/service.cc:177]   StreamExecutor device (0): NVIDIA GeForce RTX 3050 Laptop GPU, Compute Capability 8.6\n",
      "2023-06-03 18:29:49.683072: I tensorflow/compiler/mlir/tensorflow/utils/dump_mlir_util.cc:269] disabling MLIR crash reproducer, set env var `MLIR_CRASH_REPRODUCER_DIRECTORY` to enable.\n",
      "2023-06-03 18:29:49.995402: I tensorflow/compiler/xla/stream_executor/cuda/cuda_dnn.cc:424] Loaded cuDNN version 8600\n",
      "2023-06-03 18:29:50.671656: I ./tensorflow/compiler/jit/device_compiler.h:180] Compiled cluster using XLA!  This line is logged at most once for the lifetime of the process.\n"
     ]
    },
    {
     "name": "stdout",
     "output_type": "stream",
     "text": [
      "1/1 [==============================] - 9s 9s/step - loss: 0.0010\n",
      "Epoch 2/10\n",
      "1/1 [==============================] - 0s 17ms/step - loss: 9.3537e-04\n",
      "Epoch 3/10\n",
      "1/1 [==============================] - 0s 9ms/step - loss: 8.3649e-04\n",
      "Epoch 4/10\n",
      "1/1 [==============================] - 0s 8ms/step - loss: 7.6723e-04\n",
      "Epoch 5/10\n",
      "1/1 [==============================] - 0s 8ms/step - loss: 7.2027e-04\n",
      "Epoch 6/10\n",
      "1/1 [==============================] - 0s 10ms/step - loss: 6.7195e-04\n",
      "Epoch 7/10\n",
      "1/1 [==============================] - 0s 7ms/step - loss: 6.6632e-04\n",
      "Epoch 8/10\n",
      "1/1 [==============================] - 0s 8ms/step - loss: 5.9142e-04\n",
      "Epoch 9/10\n",
      "1/1 [==============================] - 0s 8ms/step - loss: 5.5815e-04\n",
      "Epoch 10/10\n",
      "1/1 [==============================] - 0s 6ms/step - loss: 5.6621e-04\n"
     ]
    }
   ],
   "source": [
    "# Train the model\n",
    "model = train_model(cos_sim, tfidf_matrix)"
   ]
  },
  {
   "cell_type": "code",
   "execution_count": 7,
   "id": "c03079ed-453c-4fa9-86f1-1efdc37a2080",
   "metadata": {},
   "outputs": [],
   "source": [
    "# Generate recommendations\n",
    "def recommendations(name, model, dataset, cos_sim):\n",
    "    recommended_course = []\n",
    "\n",
    "    # Get the index of the input course title\n",
    "    idx = dataset.index.get_loc(name)\n",
    "\n",
    "    # Reshape the cosine similarity matrix for the input data\n",
    "    input_data = cos_sim.reshape(len(dataset), -1)\n",
    "\n",
    "    # Predict the TF-IDF matrix for the input course\n",
    "    predicted_tfidf = model.predict(input_data[idx].reshape(1, -1)).reshape(-1,)\n",
    "\n",
    "    # Calculate the cosine similarity between the predicted and actual TF-IDF matrices\n",
    "    score_series = pd.Series(cosine_similarity(predicted_tfidf.reshape(1, -1), tfidf_matrix).flatten())\n",
    "\n",
    "    # Get the top 10 indexes with the highest cosine similarity scores\n",
    "    top_10_indexes = list(score_series.sort_values(ascending=False).iloc[1:5].index)\n",
    "\n",
    "    for i in top_10_indexes:\n",
    "        recommended_course.append(dataset.index[i])\n",
    "\n",
    "    return recommended_course"
   ]
  },
  {
   "cell_type": "code",
   "execution_count": 9,
   "id": "1165713c-ca2d-4e08-bfb6-24b2b58b3aa3",
   "metadata": {},
   "outputs": [
    {
     "name": "stdout",
     "output_type": "stream",
     "text": [
      "1/1 [==============================] - 0s 14ms/step\n",
      "['Indonesia Sustainable Social Forestry Education Program (IS-FREE)', 'Program Startup', 'Indonesia Sustainability Coral Reef University Network (ISCORE)', 'Ecotourism']\n"
     ]
    }
   ],
   "source": [
    "# Generate recommendations for a specific course\n",
    "title = 'Moringa Academy'\n",
    "recommended_course = recommendations(title, model, dataset1, cos_sim)\n",
    "print(recommended_course)"
   ]
  },
  {
   "cell_type": "code",
   "execution_count": null,
   "id": "f32a58be-75f4-4e40-9c69-b3a4bea033bc",
   "metadata": {},
   "outputs": [],
   "source": []
  }
 ],
 "metadata": {
  "kernelspec": {
   "display_name": "Python [conda env:tf]",
   "language": "python",
   "name": "conda-env-tf-py"
  },
  "language_info": {
   "codemirror_mode": {
    "name": "ipython",
    "version": 3
   },
   "file_extension": ".py",
   "mimetype": "text/x-python",
   "name": "python",
   "nbconvert_exporter": "python",
   "pygments_lexer": "ipython3",
   "version": "3.10.9"
  }
 },
 "nbformat": 4,
 "nbformat_minor": 5
}
