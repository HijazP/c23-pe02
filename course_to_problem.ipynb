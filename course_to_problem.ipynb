{
  "cells": [
    {
      "cell_type": "code",
      "execution_count": null,
      "id": "f2ab725a-657c-4b64-a04b-4ddef9330537",
      "metadata": {
        "id": "f2ab725a-657c-4b64-a04b-4ddef9330537"
      },
      "outputs": [],
      "source": [
        "import pandas as pd\n",
        "import numpy as np\n",
        "from sklearn.metrics.pairwise import cosine_similarity\n",
        "from sklearn.feature_extraction.text import TfidfVectorizer\n",
        "from nltk.corpus import stopwords\n",
        "import re\n",
        "import random\n",
        "# from Sastrawi.StopWordRemover.StopWordRemoverFactory import StopWordRemoverFactory\n",
        "from Sastrawi.Stemmer.StemmerFactory import StemmerFactory"
      ]
    },
    {
      "cell_type": "code",
      "execution_count": null,
      "id": "2756b2ef-ded6-4a00-ab82-0117e2b9b3ee",
      "metadata": {
        "id": "2756b2ef-ded6-4a00-ab82-0117e2b9b3ee"
      },
      "outputs": [],
      "source": [
        "course = pd.read_csv('course.csv')\n",
        "problem = pd.read_csv('problemstate.csv')"
      ]
    },
    {
      "cell_type": "code",
      "execution_count": null,
      "id": "40851446-b23b-49f6-bdca-3dfc1c7aacdc",
      "metadata": {
        "id": "40851446-b23b-49f6-bdca-3dfc1c7aacdc"
      },
      "outputs": [],
      "source": [
        "course.drop(columns='courseID', axis=1, inplace=True)"
      ]
    },
    {
      "cell_type": "code",
      "execution_count": null,
      "id": "3d8a27ad-0665-41cc-bae4-0828e310007e",
      "metadata": {
        "id": "3d8a27ad-0665-41cc-bae4-0828e310007e",
        "outputId": "505ffe46-af8d-498d-db4e-deaa24ee9173"
      },
      "outputs": [
        {
          "name": "stdout",
          "output_type": "stream",
          "text": [
            "judul:\n",
            "Indonesia Sustainability Coral Reef University Network (ISCORE)\n",
            "\n",
            "\n",
            "deskripsi:\n",
            "Terumbu karang menutupi kurang dari 1% wilayah lautan, tetapi mereka secara langsung mendukung jutaan orang dengan\n",
            "menyediakan makanan, pekerjaan, dan sumber daya lainnya. Bahkan lebih banyak orang yang mendapat manfaat dari\n",
            "terumbu karang secara tidak langsung; ekosistem ini membantu memberi makan 1 miliar orang di Asia saja.\n",
            "Populasi manusia hampir 7 miliar orang, dan kemungkinan akan tumbuh menjadi 9 miliar pada tahun 2040. Kita\n",
            "membutuhkan terumbu karang (dan ekosistem lainnya) untuk memasok lebih banyak sumber daya untuk mendukung\n",
            "jumlah kita yang terus bertambah, tetapi mereka semakin terancam dengan kehancuran .\n",
            "\n",
            "\n",
            "dampak:\n",
            "pelindungan habibat; mengurangi polusi; mengurangi dampak erosi; promosi pariwisata; meningkatkan komunitas lokal; pemeliharaan agen perubahan berkelanjutan dan perlindungan terumbu karang\n",
            "\n",
            "\n",
            "modul:\n",
            "Sustainability Leadership; Coral Reef Ecology; Human threats & Challenges; Integrating Sustainability in Coral Reef; Improving reef management by sustainable financing for Communities benefit\n",
            "\n",
            "\n"
          ]
        }
      ],
      "source": [
        "# check sample text\n",
        "def sample_text(df, idx):\n",
        "    for col in df.columns:\n",
        "        print(f'{col}:')\n",
        "        print(df[col].iloc[idx])\n",
        "        print('\\n')\n",
        "        \n",
        "sample_text(course, 3)"
      ]
    },
    {
      "cell_type": "code",
      "execution_count": null,
      "id": "0d0361da-a6df-4092-b2a3-fcdfb9634dc8",
      "metadata": {
        "id": "0d0361da-a6df-4092-b2a3-fcdfb9634dc8",
        "outputId": "168e62d1-7779-4731-9f82-57b1fe43df5b"
      },
      "outputs": [
        {
          "name": "stdout",
          "output_type": "stream",
          "text": [
            "desa:\n",
            "desa pinogu\n",
            "\n",
            "\n",
            "problem:\n",
            "Budidaya dan pengolahan kopi\n",
            "\n",
            "\n",
            "lokasi:\n",
            "gorontalo\n",
            "\n",
            "\n"
          ]
        }
      ],
      "source": [
        "sample_text(problem, 0)"
      ]
    },
    {
      "cell_type": "code",
      "execution_count": null,
      "id": "453938c1-892d-42fb-9387-0a2f8d59108a",
      "metadata": {
        "id": "453938c1-892d-42fb-9387-0a2f8d59108a"
      },
      "outputs": [],
      "source": [
        "# aggregate each village problem in 1 village to list of problems\n",
        "problem_agg = (problem.groupby(['desa','lokasi'])\n",
        "          .agg({'problem': lambda x: \", \".join(x)})\n",
        "          .reset_index())\n",
        "\n",
        "problem_agg = problem_agg.assign(loc_desa = problem_agg['desa'] + ', ' + problem_agg['lokasi'])\n",
        "problem_agg = problem_agg.drop(columns=['desa','lokasi'], axis=1)"
      ]
    },
    {
      "cell_type": "code",
      "execution_count": null,
      "id": "926b604b-adb6-4e86-839c-56f72645eef5",
      "metadata": {
        "id": "926b604b-adb6-4e86-839c-56f72645eef5",
        "outputId": "05980cb9-a77b-4bad-c15f-0095aa099dfc"
      },
      "outputs": [
        {
          "name": "stdout",
          "output_type": "stream",
          "text": [
            "problem:\n",
            "Fasilitas penunjang wisata yang masih minim, Wisata kuliner yang terbatas, Akses informasi wisata yang masih terbatas, Faslitas penunjang yang masih terbatas, Belum ada inovasi pengelolaan SDA, seperti makanan sebagai wisata kuliner., Sumber daya manusia yang rendah untuk mengembangkan potensia yang ada.\n",
            "\n",
            "\n",
            "loc_desa:\n",
            "desa aimoli, alor\n",
            "\n",
            "\n"
          ]
        }
      ],
      "source": [
        "sample_text(problem_agg, 0)"
      ]
    },
    {
      "cell_type": "code",
      "execution_count": null,
      "id": "6d83b5f7-bbd7-4f28-8cf0-3cd6541876ea",
      "metadata": {
        "id": "6d83b5f7-bbd7-4f28-8cf0-3cd6541876ea",
        "outputId": "146cb6a1-b8af-481e-d126-9a5cdc370f82"
      },
      "outputs": [
        {
          "name": "stdout",
          "output_type": "stream",
          "text": [
            "judul:\n",
            "Indonesia Sustainability Coral Reef University Network (ISCORE)\n",
            "\n",
            "\n",
            "summary:\n",
            "Terumbu karang menutupi kurang dari 1% wilayah lautan, tetapi mereka secara langsung mendukung jutaan orang dengan\n",
            "menyediakan makanan, pekerjaan, dan sumber daya lainnya. Bahkan lebih banyak orang yang mendapat manfaat dari\n",
            "terumbu karang secara tidak langsung; ekosistem ini membantu memberi makan 1 miliar orang di Asia saja.\n",
            "Populasi manusia hampir 7 miliar orang, dan kemungkinan akan tumbuh menjadi 9 miliar pada tahun 2040. Kita\n",
            "membutuhkan terumbu karang (dan ekosistem lainnya) untuk memasok lebih banyak sumber daya untuk mendukung\n",
            "jumlah kita yang terus bertambah, tetapi mereka semakin terancam dengan kehancuran ., pelindungan habibat; mengurangi polusi; mengurangi dampak erosi; promosi pariwisata; meningkatkan komunitas lokal; pemeliharaan agen perubahan berkelanjutan dan perlindungan terumbu karang, Sustainability Leadership; Coral Reef Ecology; Human threats & Challenges; Integrating Sustainability in Coral Reef; Improving reef management by sustainable financing for Communities benefit\n",
            "\n",
            "\n"
          ]
        }
      ],
      "source": [
        "# combine deskripsi, dampak, and modul to one column\n",
        "course2 = course.assign(summary = course['deskripsi'] + ', ' + course['dampak'] + ', ' + course['modul'])\n",
        "course2 = course2.drop(columns=['deskripsi','dampak', 'modul'], axis=1)\n",
        "\n",
        "sample_text(course2, 3)"
      ]
    },
    {
      "cell_type": "code",
      "execution_count": null,
      "id": "1ac3b1ff-bc4d-4910-a4ad-f83672ce975f",
      "metadata": {
        "id": "1ac3b1ff-bc4d-4910-a4ad-f83672ce975f"
      },
      "outputs": [],
      "source": [
        "course_clean = course2.copy()\n",
        "prob_clean = problem_agg.copy()"
      ]
    },
    {
      "cell_type": "code",
      "execution_count": null,
      "id": "ce239bbd-29f5-4b2b-90ae-87768ce69e75",
      "metadata": {
        "id": "ce239bbd-29f5-4b2b-90ae-87768ce69e75",
        "outputId": "fc6aa751-b572-4cc0-9172-a2dccb5bf4fb"
      },
      "outputs": [
        {
          "data": {
            "text/plain": [
              "705"
            ]
          },
          "execution_count": 10,
          "metadata": {},
          "output_type": "execute_result"
        }
      ],
      "source": [
        "# create stemmer\n",
        "factory = StemmerFactory()\n",
        "stemmer = factory.create_stemmer()\n",
        "\n",
        "# variable to clear symbols\n",
        "clean_spcl = re.compile('[/(){}\\[\\]\\|@,;]')\n",
        "clean_symbol = re.compile('[^0-9a-z #+_]')\n",
        "\n",
        "# stopword\n",
        "f = open(\"tala_stopword.txt\", \"r\")\n",
        "stopword_list = []\n",
        "for line in f:\n",
        "    stripped_line = line.strip()\n",
        "    line_list = stripped_line.split()\n",
        "    stopword_list.append(line_list[0])\n",
        "f.close()\n",
        "\n",
        "len(stopword_list)"
      ]
    },
    {
      "cell_type": "code",
      "execution_count": null,
      "id": "a0c51725-cd9b-4753-81c1-68b616b7440c",
      "metadata": {
        "id": "a0c51725-cd9b-4753-81c1-68b616b7440c"
      },
      "outputs": [],
      "source": [
        "def clean_text(text):\n",
        "  \"\"\"\n",
        "  preprocess and clean texts data\n",
        "  and perform stemming to text\n",
        "  input:\n",
        "    text: text value\n",
        "  output\n",
        "    text: text after preprocess\n",
        "  \"\"\"\n",
        "  text = stemmer.stem(text)\n",
        "  text = text.lower() # lowercase text\n",
        "  text = clean_spcl.sub(' ', text)\n",
        "  text = clean_symbol.sub('', text)\n",
        "  text = ' '.join(word for word in text.split() if word not in stopword_list) # hapus stopword dari kolom deskripsi\n",
        "  return text"
      ]
    },
    {
      "cell_type": "code",
      "execution_count": null,
      "id": "b8160a0e-9013-4f09-9cdc-51e7e75075c3",
      "metadata": {
        "id": "b8160a0e-9013-4f09-9cdc-51e7e75075c3"
      },
      "outputs": [],
      "source": [
        "course_clean['summary'] = course_clean['summary'].apply(clean_text)\n",
        "prob_clean['problem'] = problem_agg['problem'].apply(clean_text)"
      ]
    },
    {
      "cell_type": "code",
      "execution_count": null,
      "id": "70432888-92dc-4e1f-90fc-6c1992741839",
      "metadata": {
        "id": "70432888-92dc-4e1f-90fc-6c1992741839",
        "outputId": "6e1efd5f-ceb2-49e4-ea1d-525b3f45c2f2"
      },
      "outputs": [
        {
          "name": "stdout",
          "output_type": "stream",
          "text": [
            "judul:\n",
            "Indonesia Sustainability Coral Reef University Network (ISCORE)\n",
            "\n",
            "\n",
            "summary:\n",
            "terumbu karang tutup 1 wilayah laut langsung dukung juta orang sedia makan kerja sumber daya bahkan banyak orang manfaat terumbu karang langsung ekosistem bantu makan 1 miliar orang asia populasi manusia 7 miliar orang akan tumbuh 9 miliar 2040 butuh terumbu karang ekosistem pasok banyak sumber daya dukung ancam hancur lindung habibat polusi dampak erosi promosi pariwisata tingkat komunitas lokal pelihara agen ubah lindung terumbu karang sustainability leadership coral reef ecology human threats challenges integrating sustainability in coral reef improving reef management by sustainable financing for communities benefit\n",
            "\n",
            "\n"
          ]
        }
      ],
      "source": [
        "sample_text(course_clean, 3)"
      ]
    },
    {
      "cell_type": "code",
      "execution_count": null,
      "id": "d222a32c-af52-4d98-9c6c-fe00f9775bed",
      "metadata": {
        "id": "d222a32c-af52-4d98-9c6c-fe00f9775bed",
        "outputId": "85b36603-a02d-495b-aa7c-f20ec3f1d7b4"
      },
      "outputs": [
        {
          "name": "stdout",
          "output_type": "stream",
          "text": [
            "problem:\n",
            "fasilitas tunjang wisata minim wisata kuliner batas akses informasi wisata batas faslitas tunjang batas ada inovasi kelola sda makan bagai wisata kuliner sumber daya manusia rendah kembang potensia ada\n",
            "\n",
            "\n",
            "loc_desa:\n",
            "desa aimoli, alor\n",
            "\n",
            "\n"
          ]
        }
      ],
      "source": [
        "sample_text(prob_clean, 0)"
      ]
    },
    {
      "cell_type": "markdown",
      "id": "85f21399-22fd-4fe0-ac0f-7648f462bf7e",
      "metadata": {
        "id": "85f21399-22fd-4fe0-ac0f-7648f462bf7e"
      },
      "source": [
        "## TF-IDF"
      ]
    },
    {
      "cell_type": "code",
      "execution_count": null,
      "id": "a495bc13-74cf-4186-8cb4-2d99539529bd",
      "metadata": {
        "id": "a495bc13-74cf-4186-8cb4-2d99539529bd"
      },
      "outputs": [],
      "source": [
        "# # mengubah kalimat menjadi angka berupa matriks\n",
        "# def conv_to_tf_idf(df, set_to_idx, col_transform):\n",
        "#     df.set_index(set_to_idx, inplace=True)\n",
        "#     tf = TfidfVectorizer(analyzer='word', ngram_range=(1, 3), min_df=0)\n",
        "#     tfidf_matrix = tf.fit_transform(col_transform)\n",
        "#     # cos_sim = cosine_similarity(tfidf_matrix, tfidf_matrix)\n",
        "#     return tfidf_matrix\n",
        "\n",
        "# tfidf_course = conv_to_tf_idf(course_clean, 'judul', course_clean['summary'])\n",
        "# tfidf_prob = conv_to_tf_idf(prob_clean, 'loc_desa', prob_clean['problem'])"
      ]
    },
    {
      "cell_type": "code",
      "execution_count": null,
      "id": "28954817-98a9-4cdf-8b64-8e62724f669c",
      "metadata": {
        "id": "28954817-98a9-4cdf-8b64-8e62724f669c"
      },
      "outputs": [],
      "source": [
        "course_clean.set_index('judul', inplace=True)\n",
        "prob_clean.set_index('loc_desa', inplace=True)"
      ]
    },
    {
      "cell_type": "code",
      "execution_count": null,
      "id": "936dad73-5389-46a4-ab06-1abbdd16fe60",
      "metadata": {
        "id": "936dad73-5389-46a4-ab06-1abbdd16fe60",
        "outputId": "a4ce9195-34eb-404b-fe96-e566e9d8b5ec"
      },
      "outputs": [
        {
          "data": {
            "text/html": [
              "<div>\n",
              "<style scoped>\n",
              "    .dataframe tbody tr th:only-of-type {\n",
              "        vertical-align: middle;\n",
              "    }\n",
              "\n",
              "    .dataframe tbody tr th {\n",
              "        vertical-align: top;\n",
              "    }\n",
              "\n",
              "    .dataframe thead th {\n",
              "        text-align: right;\n",
              "    }\n",
              "</style>\n",
              "<table border=\"1\" class=\"dataframe\">\n",
              "  <thead>\n",
              "    <tr style=\"text-align: right;\">\n",
              "      <th></th>\n",
              "      <th>summary</th>\n",
              "    </tr>\n",
              "    <tr>\n",
              "      <th>judul</th>\n",
              "      <th></th>\n",
              "    </tr>\n",
              "  </thead>\n",
              "  <tbody>\n",
              "    <tr>\n",
              "      <th>Fundamental Course (1)</th>\n",
              "      <td>fundamental attitude toward sustainability uba...</td>\n",
              "    </tr>\n",
              "    <tr>\n",
              "      <th>Fundamental Course (2)</th>\n",
              "      <td>innovation method as problem solving paham kon...</td>\n",
              "    </tr>\n",
              "    <tr>\n",
              "      <th>Fundamental Course (3)</th>\n",
              "      <td>the way to build sustainable business kenal su...</td>\n",
              "    </tr>\n",
              "    <tr>\n",
              "      <th>Indonesia Sustainability Coral Reef University Network (ISCORE)</th>\n",
              "      <td>terumbu karang tutup 1 wilayah laut langsung d...</td>\n",
              "    </tr>\n",
              "    <tr>\n",
              "      <th>Ecotourism</th>\n",
              "      <td>iring longgar jalan stabilitas bijak jalan tum...</td>\n",
              "    </tr>\n",
              "    <tr>\n",
              "      <th>Moringa Academy</th>\n",
              "      <td>moringa oliefera kelor rupa salah tanam pusaka...</td>\n",
              "    </tr>\n",
              "    <tr>\n",
              "      <th>Indonesia Sustainable Social Forestry Education Program (IS-FREE)</th>\n",
              "      <td>program kait potensi hutan sosial hutan produk...</td>\n",
              "    </tr>\n",
              "    <tr>\n",
              "      <th>Waste Management</th>\n",
              "      <td>kota darurat sampah desa desa indonesia milik ...</td>\n",
              "    </tr>\n",
              "    <tr>\n",
              "      <th>Integrated Farming</th>\n",
              "      <td>sistem tani padu rupa sistem integrasi tani ga...</td>\n",
              "    </tr>\n",
              "    <tr>\n",
              "      <th>Solar Academy</th>\n",
              "      <td>perintah indonesia milik target tingkat rasio ...</td>\n",
              "    </tr>\n",
              "    <tr>\n",
              "      <th>Program Startup</th>\n",
              "      <td>perintah indonesia milik target tingkat rasio ...</td>\n",
              "    </tr>\n",
              "  </tbody>\n",
              "</table>\n",
              "</div>"
            ],
            "text/plain": [
              "                                                                                              summary\n",
              "judul                                                                                                \n",
              "Fundamental Course (1)                              fundamental attitude toward sustainability uba...\n",
              "Fundamental Course (2)                              innovation method as problem solving paham kon...\n",
              "Fundamental Course (3)                              the way to build sustainable business kenal su...\n",
              "Indonesia Sustainability Coral Reef University ...  terumbu karang tutup 1 wilayah laut langsung d...\n",
              "Ecotourism                                          iring longgar jalan stabilitas bijak jalan tum...\n",
              "Moringa Academy                                     moringa oliefera kelor rupa salah tanam pusaka...\n",
              "Indonesia Sustainable Social Forestry Education...  program kait potensi hutan sosial hutan produk...\n",
              "Waste Management                                    kota darurat sampah desa desa indonesia milik ...\n",
              "Integrated Farming                                  sistem tani padu rupa sistem integrasi tani ga...\n",
              "Solar Academy                                       perintah indonesia milik target tingkat rasio ...\n",
              "Program Startup                                     perintah indonesia milik target tingkat rasio ..."
            ]
          },
          "execution_count": 17,
          "metadata": {},
          "output_type": "execute_result"
        }
      ],
      "source": [
        "course_clean"
      ]
    },
    {
      "cell_type": "code",
      "execution_count": null,
      "id": "acd5d8d7-945f-4310-b281-909e829da7db",
      "metadata": {
        "id": "acd5d8d7-945f-4310-b281-909e829da7db",
        "outputId": "7353e5b0-8c67-47eb-a187-2db778bae1aa"
      },
      "outputs": [
        {
          "data": {
            "text/html": [
              "<div>\n",
              "<style scoped>\n",
              "    .dataframe tbody tr th:only-of-type {\n",
              "        vertical-align: middle;\n",
              "    }\n",
              "\n",
              "    .dataframe tbody tr th {\n",
              "        vertical-align: top;\n",
              "    }\n",
              "\n",
              "    .dataframe thead th {\n",
              "        text-align: right;\n",
              "    }\n",
              "</style>\n",
              "<table border=\"1\" class=\"dataframe\">\n",
              "  <thead>\n",
              "    <tr style=\"text-align: right;\">\n",
              "      <th></th>\n",
              "      <th>problem</th>\n",
              "    </tr>\n",
              "    <tr>\n",
              "      <th>loc_desa</th>\n",
              "      <th></th>\n",
              "    </tr>\n",
              "  </thead>\n",
              "  <tbody>\n",
              "    <tr>\n",
              "      <th>desa aimoli, alor</th>\n",
              "      <td>fasilitas tunjang wisata minim wisata kuliner ...</td>\n",
              "    </tr>\n",
              "    <tr>\n",
              "      <th>desa dataran hijau, gorontalo</th>\n",
              "      <td>akses sulit infrastruktur kendala listrik kend...</td>\n",
              "    </tr>\n",
              "    <tr>\n",
              "      <th>desa lewalu, alor</th>\n",
              "      <td>sulit cari souvenir atau sampah akses jalan ba...</td>\n",
              "    </tr>\n",
              "    <tr>\n",
              "      <th>desa pinogu, gorontalo</th>\n",
              "      <td>budidaya olah kopi olah produk sapi akses jala...</td>\n",
              "    </tr>\n",
              "    <tr>\n",
              "      <th>desa saleman, maluku</th>\n",
              "      <td>budaya masyarakat buang sampah laut etika masy...</td>\n",
              "    </tr>\n",
              "  </tbody>\n",
              "</table>\n",
              "</div>"
            ],
            "text/plain": [
              "                                                                         problem\n",
              "loc_desa                                                                        \n",
              "desa aimoli, alor              fasilitas tunjang wisata minim wisata kuliner ...\n",
              "desa dataran hijau, gorontalo  akses sulit infrastruktur kendala listrik kend...\n",
              "desa lewalu, alor              sulit cari souvenir atau sampah akses jalan ba...\n",
              "desa pinogu, gorontalo         budidaya olah kopi olah produk sapi akses jala...\n",
              "desa saleman, maluku           budaya masyarakat buang sampah laut etika masy..."
            ]
          },
          "execution_count": 18,
          "metadata": {},
          "output_type": "execute_result"
        }
      ],
      "source": [
        "prob_clean"
      ]
    },
    {
      "cell_type": "markdown",
      "id": "9cc07c02-61d1-4d10-bac7-d817b870d997",
      "metadata": {
        "id": "9cc07c02-61d1-4d10-bac7-d817b870d997"
      },
      "source": [
        "### Modelling"
      ]
    },
    {
      "cell_type": "code",
      "execution_count": null,
      "id": "fc166735-cc65-40ef-8287-8a3b9b334aad",
      "metadata": {
        "id": "fc166735-cc65-40ef-8287-8a3b9b334aad"
      },
      "outputs": [],
      "source": [
        "def find_nearest_similarity(dataset1, dataset2):\n",
        "  \"\"\"\n",
        "  preprocess the datasets and\n",
        "  find the nearest similarity between two \n",
        "  datasets based on their textual content.\n",
        "  input: \n",
        "      dataset1: course dataset\n",
        "      dataset2: village problem dataset\n",
        "  output:\n",
        "      nearest_indices: nearest course title and corresponding village\n",
        "      nearest_similarities: nearest similarity values\n",
        "  \"\"\"\n",
        "\n",
        "  # Extract text and index from DataFrame\n",
        "  text1 = dataset1['summary'].tolist()\n",
        "  text2 = dataset2['problem'].tolist()\n",
        "  index1 = dataset1.index.tolist()\n",
        "  index2 = dataset2.index.tolist()\n",
        "\n",
        "  # Vectorize the datasets using TF-IDF\n",
        "  vectorizer = TfidfVectorizer(analyzer='word', ngram_range=(1, 3), min_df=0)\n",
        "\n",
        "  vectors1 = vectorizer.fit_transform(text1)\n",
        "  vectors2 = vectorizer.transform(text2)\n",
        "\n",
        "  # Calculate cosine similarity\n",
        "  similarity_matrix = cosine_similarity(vectors1, vectors2)\n",
        "\n",
        "  # Find the nearest similarity for each row in dataset1\n",
        "  nearest_similarities = {}\n",
        "  nearest_indices = {}\n",
        "\n",
        "  for i in range(len(dataset1)):\n",
        "    max_similarity = -1\n",
        "    max_index = -1\n",
        "\n",
        "    for j in range(len(dataset2)):\n",
        "        if similarity_matrix[i, j] > max_similarity:\n",
        "            max_similarity = similarity_matrix[i, j]\n",
        "            max_index = index2[j]\n",
        "\n",
        "    nearest_similarities[index1[i]] = max_similarity\n",
        "    nearest_indices[index1[i]] = max_index\n",
        "\n",
        "  return nearest_indices, nearest_similarities\n",
        "\n",
        "def get_top_3_similar_indices(index1, similarity_matrix):\n",
        "  similarities = similarity_matrix[index1]\n",
        "  sorted_indices = similarities.argsort()[::-1][:3]\n",
        "\n",
        "  return sorted_indices.tolist()"
      ]
    },
    {
      "cell_type": "code",
      "execution_count": null,
      "id": "ca330ed5-4246-4abb-bc25-ecbf8259329e",
      "metadata": {
        "id": "ca330ed5-4246-4abb-bc25-ecbf8259329e"
      },
      "outputs": [],
      "source": [
        "result, similarity = find_nearest_similarity(course_clean, prob_clean)"
      ]
    },
    {
      "cell_type": "code",
      "execution_count": null,
      "id": "aa58834c-cda6-43ef-9fe1-75c5b89decf1",
      "metadata": {
        "id": "aa58834c-cda6-43ef-9fe1-75c5b89decf1",
        "outputId": "1ba3cd65-c3bb-496b-9fc2-4e1906871742"
      },
      "outputs": [
        {
          "name": "stdout",
          "output_type": "stream",
          "text": [
            "Nearest similarity pair for [Fundamental Course (1)] => [desa dataran hijau, gorontalo], Similarity: 0.05398843802675163\n",
            "Nearest similarity pair for [Fundamental Course (2)] => [desa dataran hijau, gorontalo], Similarity: 0.051443522242568755\n",
            "Nearest similarity pair for [Fundamental Course (3)] => [desa dataran hijau, gorontalo], Similarity: 0.00700112017767838\n",
            "Nearest similarity pair for [Indonesia Sustainability Coral Reef University Network (ISCORE)] => [desa pinogu, gorontalo], Similarity: 0.10984494064542127\n",
            "Nearest similarity pair for [Ecotourism] => [desa aimoli, alor], Similarity: 0.15209677246593936\n",
            "Nearest similarity pair for [Moringa Academy] => [desa saleman, maluku], Similarity: 0.09007339728934367\n",
            "Nearest similarity pair for [Indonesia Sustainable Social Forestry Education Program (IS-FREE)] => [desa saleman, maluku], Similarity: 0.12966317185264206\n",
            "Nearest similarity pair for [Waste Management] => [desa lewalu, alor], Similarity: 0.28948080587260894\n",
            "Nearest similarity pair for [Integrated Farming] => [desa pinogu, gorontalo], Similarity: 0.11977167181462788\n",
            "Nearest similarity pair for [Solar Academy] => [desa saleman, maluku], Similarity: 0.08970886766521115\n",
            "Nearest similarity pair for [Program Startup] => [desa saleman, maluku], Similarity: 0.07230999900336053\n"
          ]
        }
      ],
      "source": [
        "for idx in course_clean.index:\n",
        "  print(\"Nearest similarity pair for [{}] => [{}], Similarity: {}\".format(idx, result[idx], similarity[idx]))"
      ]
    }
  ],
  "metadata": {
    "kernelspec": {
      "display_name": "Python [conda env:tf]",
      "language": "python",
      "name": "conda-env-tf-py"
    },
    "language_info": {
      "codemirror_mode": {
        "name": "ipython",
        "version": 3
      },
      "file_extension": ".py",
      "mimetype": "text/x-python",
      "name": "python",
      "nbconvert_exporter": "python",
      "pygments_lexer": "ipython3",
      "version": "3.10.9"
    },
    "colab": {
      "provenance": []
    }
  },
  "nbformat": 4,
  "nbformat_minor": 5
}