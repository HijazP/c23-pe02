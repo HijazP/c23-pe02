{
 "cells": [
  {
   "cell_type": "code",
   "execution_count": 1,
   "id": "154cda1f",
   "metadata": {},
   "outputs": [
    {
     "name": "stdout",
     "output_type": "stream",
     "text": [
      "/bin/bash: /home/anggapark/miniconda3/lib/libtinfo.so.6: no version information available (required by /bin/bash)\n",
      "Looking in indexes: https://pypi.org/simple, https://pypi.ngc.nvidia.com\n",
      "Requirement already satisfied: sastrawi in /home/anggapark/miniconda3/envs/tf/lib/python3.10/site-packages (1.0.1)\n",
      "Note: you may need to restart the kernel to use updated packages.\n"
     ]
    }
   ],
   "source": [
    "pip install sastrawi"
   ]
  },
  {
   "cell_type": "code",
   "execution_count": 2,
   "id": "9d37334c",
   "metadata": {},
   "outputs": [],
   "source": [
    "import pandas as pd\n",
    "import numpy as np\n",
    "from sklearn.metrics.pairwise import cosine_similarity\n",
    "from sklearn.feature_extraction.text import TfidfVectorizer\n",
    "from nltk.corpus import stopwords\n",
    "import re\n",
    "import random\n",
    "# from Sastrawi.StopWordRemover.StopWordRemoverFactory import StopWordRemoverFactory\n",
    "from Sastrawi.Stemmer.StemmerFactory import StemmerFactory"
   ]
  },
  {
   "cell_type": "code",
   "execution_count": 3,
   "id": "6733ed0a",
   "metadata": {},
   "outputs": [],
   "source": [
    "course = pd.read_csv('course.csv')\n",
    "problem = pd.read_csv('problemstate.csv')"
   ]
  },
  {
   "cell_type": "code",
   "execution_count": 4,
   "id": "a23ce8e1",
   "metadata": {},
   "outputs": [
    {
     "data": {
      "text/html": [
       "<div>\n",
       "<style scoped>\n",
       "    .dataframe tbody tr th:only-of-type {\n",
       "        vertical-align: middle;\n",
       "    }\n",
       "\n",
       "    .dataframe tbody tr th {\n",
       "        vertical-align: top;\n",
       "    }\n",
       "\n",
       "    .dataframe thead th {\n",
       "        text-align: right;\n",
       "    }\n",
       "</style>\n",
       "<table border=\"1\" class=\"dataframe\">\n",
       "  <thead>\n",
       "    <tr style=\"text-align: right;\">\n",
       "      <th></th>\n",
       "      <th>courseID</th>\n",
       "      <th>judul</th>\n",
       "      <th>deskripsi</th>\n",
       "      <th>dampak</th>\n",
       "      <th>modul</th>\n",
       "    </tr>\n",
       "  </thead>\n",
       "  <tbody>\n",
       "    <tr>\n",
       "      <th>0</th>\n",
       "      <td>1</td>\n",
       "      <td>Fundamental Course (1)</td>\n",
       "      <td>Fundamental Attitude toward sustainability</td>\n",
       "      <td>mengubah paradigma mengenai sustainability; Me...</td>\n",
       "      <td>Perubahan menuju sustainable mindset; 5 Prinsi...</td>\n",
       "    </tr>\n",
       "    <tr>\n",
       "      <th>1</th>\n",
       "      <td>2</td>\n",
       "      <td>Fundamental Course (2)</td>\n",
       "      <td>Innovation method as problem solving</td>\n",
       "      <td>Memahami konsep Growth Mindset; Memahami konse...</td>\n",
       "      <td>Growth mindset; Design thinking; Lean Startup;...</td>\n",
       "    </tr>\n",
       "    <tr>\n",
       "      <th>2</th>\n",
       "      <td>3</td>\n",
       "      <td>Fundamental Course (3)</td>\n",
       "      <td>The way to build sustainable business</td>\n",
       "      <td>Mengenal Sustainable Startup; Memahami SDGs po...</td>\n",
       "      <td>Mengenal Sustainable Startup; SDGs 12 Responsi...</td>\n",
       "    </tr>\n",
       "    <tr>\n",
       "      <th>3</th>\n",
       "      <td>4</td>\n",
       "      <td>Indonesia Sustainability Coral Reef University...</td>\n",
       "      <td>Terumbu karang menutupi kurang dari 1% wilayah...</td>\n",
       "      <td>pelindungan habibat; mengurangi polusi; mengur...</td>\n",
       "      <td>Sustainability Leadership; Coral Reef Ecology;...</td>\n",
       "    </tr>\n",
       "    <tr>\n",
       "      <th>4</th>\n",
       "      <td>5</td>\n",
       "      <td>Ecotourism</td>\n",
       "      <td>Seiring dengan pelonggaran perjalanan dan stab...</td>\n",
       "      <td>Pelestarian ekosistem terhadap biodiversitas; ...</td>\n",
       "      <td>Ecoturism Introduction; Sustainable Tourism Pr...</td>\n",
       "    </tr>\n",
       "    <tr>\n",
       "      <th>5</th>\n",
       "      <td>6</td>\n",
       "      <td>Moringa Academy</td>\n",
       "      <td>Moringa Oliefera (kelor) merupakan salah satu ...</td>\n",
       "      <td>Mengembangkan, memelihara dan melindungi hutan...</td>\n",
       "      <td>Pengenalan Kelor; Pemahaman Kelor Melalui sosi...</td>\n",
       "    </tr>\n",
       "    <tr>\n",
       "      <th>6</th>\n",
       "      <td>7</td>\n",
       "      <td>Indonesia Sustainable Social Forestry Educatio...</td>\n",
       "      <td>Program ini terkait dengan potensi \"perhutanan...</td>\n",
       "      <td>Pemasaran produk-produk hutan yang Berkelanjut...</td>\n",
       "      <td>Forest Management and Conservation Program (FM...</td>\n",
       "    </tr>\n",
       "    <tr>\n",
       "      <th>7</th>\n",
       "      <td>8</td>\n",
       "      <td>Waste Management</td>\n",
       "      <td>Bukan hanya kota yang darurat sampah, Desa Des...</td>\n",
       "      <td>pelindungan habitat; mengurangi polusi sampah ...</td>\n",
       "      <td>Eco Literasi (Perubahan Mindset; 5 Prinsip Eko...</td>\n",
       "    </tr>\n",
       "    <tr>\n",
       "      <th>8</th>\n",
       "      <td>9</td>\n",
       "      <td>Integrated Farming</td>\n",
       "      <td>Sistem pertanian terpadu merupakan sistem inte...</td>\n",
       "      <td>Menjaga keseimbangan ekosistem di dalamnya\\nse...</td>\n",
       "      <td>Analisis Masalah Sistem pertanian dan pengenal...</td>\n",
       "    </tr>\n",
       "    <tr>\n",
       "      <th>9</th>\n",
       "      <td>10</td>\n",
       "      <td>Solar Academy</td>\n",
       "      <td>Pemerintah Indonesia saat ini memiliki target ...</td>\n",
       "      <td>Memberikan pengetahuan dan informasi\\nterkini ...</td>\n",
       "      <td>Dasar - dasar solar PV\\r\\nPemahaman dasar rang...</td>\n",
       "    </tr>\n",
       "    <tr>\n",
       "      <th>10</th>\n",
       "      <td>11</td>\n",
       "      <td>Program Startup</td>\n",
       "      <td>Pemerintah Indonesia saat ini memiliki target ...</td>\n",
       "      <td>Munculnya usaha baru berbasis isu &amp;\\npotensi D...</td>\n",
       "      <td>Sustainable Startup (Mengenal Sustainable Star...</td>\n",
       "    </tr>\n",
       "  </tbody>\n",
       "</table>\n",
       "</div>"
      ],
      "text/plain": [
       "    courseID                                              judul   \n",
       "0          1                             Fundamental Course (1)  \\\n",
       "1          2                             Fundamental Course (2)   \n",
       "2          3                             Fundamental Course (3)   \n",
       "3          4  Indonesia Sustainability Coral Reef University...   \n",
       "4          5                                         Ecotourism   \n",
       "5          6                                    Moringa Academy   \n",
       "6          7  Indonesia Sustainable Social Forestry Educatio...   \n",
       "7          8                                   Waste Management   \n",
       "8          9                                 Integrated Farming   \n",
       "9         10                                      Solar Academy   \n",
       "10        11                                    Program Startup   \n",
       "\n",
       "                                            deskripsi   \n",
       "0          Fundamental Attitude toward sustainability  \\\n",
       "1                Innovation method as problem solving   \n",
       "2               The way to build sustainable business   \n",
       "3   Terumbu karang menutupi kurang dari 1% wilayah...   \n",
       "4   Seiring dengan pelonggaran perjalanan dan stab...   \n",
       "5   Moringa Oliefera (kelor) merupakan salah satu ...   \n",
       "6   Program ini terkait dengan potensi \"perhutanan...   \n",
       "7   Bukan hanya kota yang darurat sampah, Desa Des...   \n",
       "8   Sistem pertanian terpadu merupakan sistem inte...   \n",
       "9   Pemerintah Indonesia saat ini memiliki target ...   \n",
       "10  Pemerintah Indonesia saat ini memiliki target ...   \n",
       "\n",
       "                                               dampak   \n",
       "0   mengubah paradigma mengenai sustainability; Me...  \\\n",
       "1   Memahami konsep Growth Mindset; Memahami konse...   \n",
       "2   Mengenal Sustainable Startup; Memahami SDGs po...   \n",
       "3   pelindungan habibat; mengurangi polusi; mengur...   \n",
       "4   Pelestarian ekosistem terhadap biodiversitas; ...   \n",
       "5   Mengembangkan, memelihara dan melindungi hutan...   \n",
       "6   Pemasaran produk-produk hutan yang Berkelanjut...   \n",
       "7   pelindungan habitat; mengurangi polusi sampah ...   \n",
       "8   Menjaga keseimbangan ekosistem di dalamnya\\nse...   \n",
       "9   Memberikan pengetahuan dan informasi\\nterkini ...   \n",
       "10  Munculnya usaha baru berbasis isu &\\npotensi D...   \n",
       "\n",
       "                                                modul  \n",
       "0   Perubahan menuju sustainable mindset; 5 Prinsi...  \n",
       "1   Growth mindset; Design thinking; Lean Startup;...  \n",
       "2   Mengenal Sustainable Startup; SDGs 12 Responsi...  \n",
       "3   Sustainability Leadership; Coral Reef Ecology;...  \n",
       "4   Ecoturism Introduction; Sustainable Tourism Pr...  \n",
       "5   Pengenalan Kelor; Pemahaman Kelor Melalui sosi...  \n",
       "6   Forest Management and Conservation Program (FM...  \n",
       "7   Eco Literasi (Perubahan Mindset; 5 Prinsip Eko...  \n",
       "8   Analisis Masalah Sistem pertanian dan pengenal...  \n",
       "9   Dasar - dasar solar PV\\r\\nPemahaman dasar rang...  \n",
       "10  Sustainable Startup (Mengenal Sustainable Star...  "
      ]
     },
     "execution_count": 4,
     "metadata": {},
     "output_type": "execute_result"
    }
   ],
   "source": [
    "course"
   ]
  },
  {
   "cell_type": "code",
   "execution_count": 5,
   "id": "04908784",
   "metadata": {},
   "outputs": [
    {
     "name": "stdout",
     "output_type": "stream",
     "text": [
      "judul:\n",
      "Indonesia Sustainability Coral Reef University Network (ISCORE)\n",
      "\n",
      "\n",
      "deskripsi:\n",
      "Terumbu karang menutupi kurang dari 1% wilayah lautan, tetapi mereka secara langsung mendukung jutaan orang dengan\n",
      "menyediakan makanan, pekerjaan, dan sumber daya lainnya. Bahkan lebih banyak orang yang mendapat manfaat dari\n",
      "terumbu karang secara tidak langsung; ekosistem ini membantu memberi makan 1 miliar orang di Asia saja.\n",
      "Populasi manusia hampir 7 miliar orang, dan kemungkinan akan tumbuh menjadi 9 miliar pada tahun 2040. Kita\n",
      "membutuhkan terumbu karang (dan ekosistem lainnya) untuk memasok lebih banyak sumber daya untuk mendukung\n",
      "jumlah kita yang terus bertambah, tetapi mereka semakin terancam dengan kehancuran .\n",
      "\n",
      "\n",
      "dampak:\n",
      "pelindungan habibat; mengurangi polusi; mengurangi dampak erosi; promosi pariwisata; meningkatkan komunitas lokal; pemeliharaan agen perubahan berkelanjutan dan perlindungan terumbu karang\n",
      "\n",
      "\n",
      "modul:\n",
      "Sustainability Leadership; Coral Reef Ecology; Human threats & Challenges; Integrating Sustainability in Coral Reef; Improving reef management by sustainable financing for Communities benefit\n",
      "\n",
      "\n"
     ]
    }
   ],
   "source": [
    "# periksa sampel teks\n",
    "def sample_text(df, idx):\n",
    "    for col in df.columns[1:]:\n",
    "        print(f'{col}:')\n",
    "        print(df[col].iloc[idx])\n",
    "        print('\\n')\n",
    "        \n",
    "sample_text(course, 3)"
   ]
  },
  {
   "cell_type": "code",
   "execution_count": 6,
   "id": "c1c62862",
   "metadata": {},
   "outputs": [
    {
     "name": "stdout",
     "output_type": "stream",
     "text": [
      "<class 'pandas.core.frame.DataFrame'>\n",
      "RangeIndex: 11 entries, 0 to 10\n",
      "Data columns (total 5 columns):\n",
      " #   Column     Non-Null Count  Dtype \n",
      "---  ------     --------------  ----- \n",
      " 0   courseID   11 non-null     int64 \n",
      " 1   judul      11 non-null     object\n",
      " 2   deskripsi  11 non-null     object\n",
      " 3   dampak     11 non-null     object\n",
      " 4   modul      11 non-null     object\n",
      "dtypes: int64(1), object(4)\n",
      "memory usage: 568.0+ bytes\n"
     ]
    }
   ],
   "source": [
    "course.info()"
   ]
  },
  {
   "cell_type": "code",
   "execution_count": 7,
   "id": "0bd075d4",
   "metadata": {},
   "outputs": [
    {
     "data": {
      "text/html": [
       "<div>\n",
       "<style scoped>\n",
       "    .dataframe tbody tr th:only-of-type {\n",
       "        vertical-align: middle;\n",
       "    }\n",
       "\n",
       "    .dataframe tbody tr th {\n",
       "        vertical-align: top;\n",
       "    }\n",
       "\n",
       "    .dataframe thead th {\n",
       "        text-align: right;\n",
       "    }\n",
       "</style>\n",
       "<table border=\"1\" class=\"dataframe\">\n",
       "  <thead>\n",
       "    <tr style=\"text-align: right;\">\n",
       "      <th></th>\n",
       "      <th>desa</th>\n",
       "      <th>problem</th>\n",
       "      <th>lokasi</th>\n",
       "    </tr>\n",
       "  </thead>\n",
       "  <tbody>\n",
       "    <tr>\n",
       "      <th>0</th>\n",
       "      <td>desa pinogu</td>\n",
       "      <td>Budidaya dan pengolahan kopi</td>\n",
       "      <td>gorontalo</td>\n",
       "    </tr>\n",
       "    <tr>\n",
       "      <th>1</th>\n",
       "      <td>desa pinogu</td>\n",
       "      <td>Pengolahan produk dari sapi</td>\n",
       "      <td>gorontalo</td>\n",
       "    </tr>\n",
       "    <tr>\n",
       "      <th>2</th>\n",
       "      <td>desa pinogu</td>\n",
       "      <td>Akses jalan yang buruk</td>\n",
       "      <td>gorontalo</td>\n",
       "    </tr>\n",
       "    <tr>\n",
       "      <th>3</th>\n",
       "      <td>desa pinogu</td>\n",
       "      <td>Listrik yang kurang menyeluruh</td>\n",
       "      <td>gorontalo</td>\n",
       "    </tr>\n",
       "    <tr>\n",
       "      <th>4</th>\n",
       "      <td>desa pinogu</td>\n",
       "      <td>Jaringan internet yang kurang lancar</td>\n",
       "      <td>gorontalo</td>\n",
       "    </tr>\n",
       "    <tr>\n",
       "      <th>...</th>\n",
       "      <td>...</td>\n",
       "      <td>...</td>\n",
       "      <td>...</td>\n",
       "    </tr>\n",
       "    <tr>\n",
       "      <th>78</th>\n",
       "      <td>desa aimoli</td>\n",
       "      <td>Wisata kuliner yang terbatas</td>\n",
       "      <td>alor</td>\n",
       "    </tr>\n",
       "    <tr>\n",
       "      <th>79</th>\n",
       "      <td>desa aimoli</td>\n",
       "      <td>Akses informasi wisata yang masih terbatas</td>\n",
       "      <td>alor</td>\n",
       "    </tr>\n",
       "    <tr>\n",
       "      <th>80</th>\n",
       "      <td>desa aimoli</td>\n",
       "      <td>Faslitas penunjang yang masih terbatas</td>\n",
       "      <td>alor</td>\n",
       "    </tr>\n",
       "    <tr>\n",
       "      <th>81</th>\n",
       "      <td>desa aimoli</td>\n",
       "      <td>Belum ada inovasi pengelolaan SDA, seperti mak...</td>\n",
       "      <td>alor</td>\n",
       "    </tr>\n",
       "    <tr>\n",
       "      <th>82</th>\n",
       "      <td>desa aimoli</td>\n",
       "      <td>Sumber daya manusia yang rendah untuk mengemba...</td>\n",
       "      <td>alor</td>\n",
       "    </tr>\n",
       "  </tbody>\n",
       "</table>\n",
       "<p>83 rows × 3 columns</p>\n",
       "</div>"
      ],
      "text/plain": [
       "           desa                                            problem     lokasi\n",
       "0   desa pinogu                       Budidaya dan pengolahan kopi  gorontalo\n",
       "1   desa pinogu                        Pengolahan produk dari sapi  gorontalo\n",
       "2   desa pinogu                             Akses jalan yang buruk  gorontalo\n",
       "3   desa pinogu                     Listrik yang kurang menyeluruh  gorontalo\n",
       "4   desa pinogu               Jaringan internet yang kurang lancar  gorontalo\n",
       "..          ...                                                ...        ...\n",
       "78  desa aimoli                       Wisata kuliner yang terbatas       alor\n",
       "79  desa aimoli         Akses informasi wisata yang masih terbatas       alor\n",
       "80  desa aimoli             Faslitas penunjang yang masih terbatas       alor\n",
       "81  desa aimoli  Belum ada inovasi pengelolaan SDA, seperti mak...       alor\n",
       "82  desa aimoli  Sumber daya manusia yang rendah untuk mengemba...       alor\n",
       "\n",
       "[83 rows x 3 columns]"
      ]
     },
     "execution_count": 7,
     "metadata": {},
     "output_type": "execute_result"
    }
   ],
   "source": [
    "problem"
   ]
  },
  {
   "cell_type": "code",
   "execution_count": 8,
   "id": "fc4184ad",
   "metadata": {},
   "outputs": [
    {
     "name": "stdout",
     "output_type": "stream",
     "text": [
      "<class 'pandas.core.frame.DataFrame'>\n",
      "RangeIndex: 83 entries, 0 to 82\n",
      "Data columns (total 3 columns):\n",
      " #   Column   Non-Null Count  Dtype \n",
      "---  ------   --------------  ----- \n",
      " 0   desa     83 non-null     object\n",
      " 1   problem  83 non-null     object\n",
      " 2   lokasi   83 non-null     object\n",
      "dtypes: object(3)\n",
      "memory usage: 2.1+ KB\n"
     ]
    }
   ],
   "source": [
    "problem.info()"
   ]
  },
  {
   "cell_type": "code",
   "execution_count": 9,
   "id": "bef98cd9",
   "metadata": {},
   "outputs": [],
   "source": [
    "# # agregat tiap masalah pada 1 desa menjadi list dalam 1 baris\n",
    "# problem_agg = (problem.groupby(['desa','lokasi'])\n",
    "#           .agg({'problem': lambda x: \", \".join(x)})\n",
    "#           .rename({'Case' : 'Avg_Cases','Delivery' : 'Avg_Delivery'},axis=1)\n",
    "#           .reset_index())"
   ]
  },
  {
   "cell_type": "code",
   "execution_count": 10,
   "id": "f3d6396d",
   "metadata": {},
   "outputs": [],
   "source": [
    "# problem_agg"
   ]
  },
  {
   "cell_type": "code",
   "execution_count": 11,
   "id": "64724e12-2e1c-44bf-bede-c6aeb95602bc",
   "metadata": {},
   "outputs": [],
   "source": [
    "course2 = course.assign(summary = course['deskripsi'] + ', ' + course['dampak'] + ', ' + course['modul'])\n",
    "course2 = course2.drop(columns=['deskripsi','dampak', 'modul'], axis=1)"
   ]
  },
  {
   "cell_type": "markdown",
   "id": "6f302eae",
   "metadata": {},
   "source": [
    "## Stemming & Remove Stopwords\n",
    "\n",
    "Stemming = mengubah kata imbuhan menjadi kata dasar </br>\n",
    "Stopwords = Stop list ini berisi daftar kata umum yang mempunyai fungsi tapi tidak mempunyai art"
   ]
  },
  {
   "cell_type": "code",
   "execution_count": 12,
   "id": "f6c2b484",
   "metadata": {},
   "outputs": [],
   "source": [
    "course_clean = course2.copy()\n",
    "prob_clean = problem.copy()"
   ]
  },
  {
   "cell_type": "code",
   "execution_count": 13,
   "id": "ce560a87",
   "metadata": {},
   "outputs": [
    {
     "data": {
      "text/plain": [
       "705"
      ]
     },
     "execution_count": 13,
     "metadata": {},
     "output_type": "execute_result"
    }
   ],
   "source": [
    "# create stemmer\n",
    "factory = StemmerFactory()\n",
    "stemmer = factory.create_stemmer()\n",
    "\n",
    "# variable to clear symbols\n",
    "clean_spcl = re.compile('[/(){}\\[\\]\\|@,;]')\n",
    "clean_symbol = re.compile('[^0-9a-z #+_]')\n",
    "\n",
    "# stopword\n",
    "f = open(\"tala_stopword.txt\", \"r\")\n",
    "stopword_list = []\n",
    "for line in f:\n",
    "    stripped_line = line.strip()\n",
    "    line_list = stripped_line.split()\n",
    "    stopword_list.append(line_list[0])\n",
    "f.close()\n",
    "\n",
    "len(stopword_list)"
   ]
  },
  {
   "cell_type": "code",
   "execution_count": 14,
   "id": "265a97e5",
   "metadata": {},
   "outputs": [],
   "source": [
    "def clean_text(text):\n",
    "    text = stemmer.stem(text)\n",
    "    text = text.lower() # lowercase text\n",
    "    text = clean_spcl.sub(' ', text)\n",
    "    text = clean_symbol.sub('', text)\n",
    "    text = ' '.join(word for word in text.split() if word not in stopword_list) # hapus stopword dari kolom deskripsi\n",
    "    return text"
   ]
  },
  {
   "cell_type": "code",
   "execution_count": 16,
   "id": "0309fa85",
   "metadata": {},
   "outputs": [],
   "source": [
    "course_clean['summary'] = course_clean['summary'].apply(clean_text)\n",
    "prob_clean['problem'] = problem['problem'].apply(clean_text)"
   ]
  },
  {
   "cell_type": "code",
   "execution_count": 17,
   "id": "85c9be78",
   "metadata": {},
   "outputs": [
    {
     "name": "stdout",
     "output_type": "stream",
     "text": [
      "judul:\n",
      "Indonesia Sustainability Coral Reef University Network (ISCORE)\n",
      "\n",
      "\n",
      "summary:\n",
      "terumbu karang tutup 1 wilayah laut langsung dukung juta orang sedia makan kerja sumber daya bahkan banyak orang manfaat terumbu karang langsung ekosistem bantu makan 1 miliar orang asia populasi manusia 7 miliar orang akan tumbuh 9 miliar 2040 butuh terumbu karang ekosistem pasok banyak sumber daya dukung ancam hancur lindung habibat polusi dampak erosi promosi pariwisata tingkat komunitas lokal pelihara agen ubah lindung terumbu karang sustainability leadership coral reef ecology human threats challenges integrating sustainability in coral reef improving reef management by sustainable financing for communities benefit\n",
      "\n",
      "\n"
     ]
    }
   ],
   "source": [
    "sample_text(course_clean, 3)"
   ]
  },
  {
   "cell_type": "code",
   "execution_count": 18,
   "id": "221df79a",
   "metadata": {},
   "outputs": [
    {
     "data": {
      "text/plain": [
       "'budidaya olah kopi'"
      ]
     },
     "execution_count": 18,
     "metadata": {},
     "output_type": "execute_result"
    }
   ],
   "source": [
    "prob_clean['problem'].iloc[0]"
   ]
  },
  {
   "cell_type": "markdown",
   "id": "b689b670",
   "metadata": {},
   "source": [
    "## TF-IDF dan Cosine Similarity"
   ]
  },
  {
   "cell_type": "code",
   "execution_count": 19,
   "id": "dd1d7a1e",
   "metadata": {},
   "outputs": [],
   "source": [
    "# mengubah kalimat menjadi angka berupa matriks\n",
    "def conv_to_tf_idf(df, set_to_idx, col_transform):\n",
    "    df.set_index(set_to_idx, inplace=True)\n",
    "    tf = TfidfVectorizer(analyzer='word', ngram_range=(1, 3), min_df=0)\n",
    "    tfidf_matrix = tf.fit_transform(col_transform)\n",
    "    cos_sim = cosine_similarity(tfidf_matrix, tfidf_matrix)\n",
    "    return cos_sim"
   ]
  },
  {
   "cell_type": "code",
   "execution_count": 20,
   "id": "289b805c",
   "metadata": {},
   "outputs": [],
   "source": [
    "cos_sim_course = conv_to_tf_idf(course_clean, 'judul', course_clean['summary'])\n",
    "# cos_sim_prob = conv_to_tf_idf(prob_clean, 'desa', prob_clean['problem'])"
   ]
  },
  {
   "cell_type": "code",
   "execution_count": 21,
   "id": "b0231570",
   "metadata": {},
   "outputs": [
    {
     "data": {
      "text/plain": [
       "0                                Fundamental Course (1)\n",
       "1                                Fundamental Course (2)\n",
       "2                                Fundamental Course (3)\n",
       "3     Indonesia Sustainability Coral Reef University...\n",
       "4                                            Ecotourism\n",
       "5                                       Moringa Academy\n",
       "6     Indonesia Sustainable Social Forestry Educatio...\n",
       "7                                      Waste Management\n",
       "8                                    Integrated Farming\n",
       "9                                         Solar Academy\n",
       "10                                      Program Startup\n",
       "Name: judul, dtype: object"
      ]
     },
     "execution_count": 21,
     "metadata": {},
     "output_type": "execute_result"
    }
   ],
   "source": [
    "indices = pd.Series(course_clean.index)\n",
    "indices"
   ]
  },
  {
   "cell_type": "code",
   "execution_count": 28,
   "id": "62b983ed",
   "metadata": {},
   "outputs": [],
   "source": [
    "def recommendations(name, cos_sim = cos_sim_course):\n",
    "    \n",
    "    recommended_course = []\n",
    "    \n",
    "    # Mengambil nama hotel berdasarkan variabel indicies\n",
    "    idx = indices[indices == name].index[0]\n",
    "\n",
    "    # Membuat series berdasarkan skor kesamaan\n",
    "    score_series = pd.Series(cos_sim[idx]).sort_values(ascending = False)\n",
    "\n",
    "    # mengambil index dan dibuat 10 baris rekomendasi terbaik\n",
    "    top_10_indexes = list(score_series.iloc[1:11].index)\n",
    "    \n",
    "    for i in top_10_indexes:\n",
    "        recommended_course.append(list(course_clean.index)[i])\n",
    "        \n",
    "    return recommended_course"
   ]
  },
  {
   "cell_type": "code",
   "execution_count": 30,
   "id": "fd13396a",
   "metadata": {},
   "outputs": [
    {
     "data": {
      "text/plain": [
       "['Indonesia Sustainable Social Forestry Education Program (IS-FREE)',\n",
       " 'Integrated Farming',\n",
       " 'Program Startup',\n",
       " 'Indonesia Sustainability Coral Reef University Network (ISCORE)',\n",
       " 'Solar Academy',\n",
       " 'Ecotourism',\n",
       " 'Waste Management',\n",
       " 'Fundamental Course (3)',\n",
       " 'Fundamental Course (1)',\n",
       " 'Fundamental Course (2)']"
      ]
     },
     "execution_count": 30,
     "metadata": {},
     "output_type": "execute_result"
    }
   ],
   "source": [
    "recommendations('Moringa Academy')"
   ]
  },
  {
   "cell_type": "code",
   "execution_count": null,
   "id": "e08cd04d-89b7-4f94-964d-13dec0a6ea3c",
   "metadata": {},
   "outputs": [],
   "source": []
  }
 ],
 "metadata": {
  "kernelspec": {
   "display_name": "Python [conda env:tf]",
   "language": "python",
   "name": "conda-env-tf-py"
  },
  "language_info": {
   "codemirror_mode": {
    "name": "ipython",
    "version": 3
   },
   "file_extension": ".py",
   "mimetype": "text/x-python",
   "name": "python",
   "nbconvert_exporter": "python",
   "pygments_lexer": "ipython3",
   "version": "3.10.9"
  }
 },
 "nbformat": 4,
 "nbformat_minor": 5
}
