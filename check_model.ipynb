{
 "cells": [
  {
   "cell_type": "code",
   "execution_count": 1,
   "id": "154cda1f",
   "metadata": {},
   "outputs": [
    {
     "name": "stdout",
     "output_type": "stream",
     "text": [
      "/bin/bash: /home/anggapark/miniconda3/lib/libtinfo.so.6: no version information available (required by /bin/bash)\n",
      "Looking in indexes: https://pypi.org/simple, https://pypi.ngc.nvidia.com\n",
      "Requirement already satisfied: sastrawi in /home/anggapark/miniconda3/envs/tf/lib/python3.10/site-packages (1.0.1)\n",
      "Note: you may need to restart the kernel to use updated packages.\n"
     ]
    }
   ],
   "source": [
    "pip install sastrawi"
   ]
  },
  {
   "cell_type": "code",
   "execution_count": 2,
   "id": "9d37334c",
   "metadata": {},
   "outputs": [],
   "source": [
    "import pandas as pd\n",
    "import numpy as np\n",
    "from sklearn.metrics.pairwise import cosine_similarity\n",
    "from sklearn.feature_extraction.text import TfidfVectorizer\n",
    "from nltk.corpus import stopwords\n",
    "import re\n",
    "import random\n",
    "# from Sastrawi.StopWordRemover.StopWordRemoverFactory import StopWordRemoverFactory\n",
    "from Sastrawi.Stemmer.StemmerFactory import StemmerFactory"
   ]
  },
  {
   "cell_type": "code",
   "execution_count": 3,
   "id": "6733ed0a",
   "metadata": {},
   "outputs": [],
   "source": [
    "course = pd.read_csv('course.csv')\n",
    "# problem = pd.read_csv('problemstate.csv')"
   ]
  },
  {
   "cell_type": "code",
   "execution_count": 4,
   "id": "a23ce8e1",
   "metadata": {},
   "outputs": [
    {
     "data": {
      "text/html": [
       "<div>\n",
       "<style scoped>\n",
       "    .dataframe tbody tr th:only-of-type {\n",
       "        vertical-align: middle;\n",
       "    }\n",
       "\n",
       "    .dataframe tbody tr th {\n",
       "        vertical-align: top;\n",
       "    }\n",
       "\n",
       "    .dataframe thead th {\n",
       "        text-align: right;\n",
       "    }\n",
       "</style>\n",
       "<table border=\"1\" class=\"dataframe\">\n",
       "  <thead>\n",
       "    <tr style=\"text-align: right;\">\n",
       "      <th></th>\n",
       "      <th>courseID</th>\n",
       "      <th>judul</th>\n",
       "      <th>deskripsi</th>\n",
       "      <th>dampak</th>\n",
       "      <th>modul</th>\n",
       "    </tr>\n",
       "  </thead>\n",
       "  <tbody>\n",
       "    <tr>\n",
       "      <th>0</th>\n",
       "      <td>1</td>\n",
       "      <td>Fundamental Course (1)</td>\n",
       "      <td>Fundamental Attitude toward sustainability</td>\n",
       "      <td>mengubah paradigma mengenai sustainability; Me...</td>\n",
       "      <td>Perubahan menuju sustainable mindset; 5 Prinsi...</td>\n",
       "    </tr>\n",
       "    <tr>\n",
       "      <th>1</th>\n",
       "      <td>2</td>\n",
       "      <td>Fundamental Course (2)</td>\n",
       "      <td>Innovation method as problem solving</td>\n",
       "      <td>Memahami konsep Growth Mindset; Memahami konse...</td>\n",
       "      <td>Growth mindset; Design thinking; Lean Startup;...</td>\n",
       "    </tr>\n",
       "    <tr>\n",
       "      <th>2</th>\n",
       "      <td>3</td>\n",
       "      <td>Fundamental Course (3)</td>\n",
       "      <td>The way to build sustainable business</td>\n",
       "      <td>Mengenal Sustainable Startup; Memahami SDGs po...</td>\n",
       "      <td>Mengenal Sustainable Startup; SDGs 12 Responsi...</td>\n",
       "    </tr>\n",
       "    <tr>\n",
       "      <th>3</th>\n",
       "      <td>4</td>\n",
       "      <td>Indonesia Sustainability Coral Reef University...</td>\n",
       "      <td>Terumbu karang menutupi kurang dari 1% wilayah...</td>\n",
       "      <td>pelindungan habibat; mengurangi polusi; mengur...</td>\n",
       "      <td>Sustainability Leadership; Coral Reef Ecology;...</td>\n",
       "    </tr>\n",
       "    <tr>\n",
       "      <th>4</th>\n",
       "      <td>5</td>\n",
       "      <td>Ecotourism</td>\n",
       "      <td>Seiring dengan pelonggaran perjalanan dan stab...</td>\n",
       "      <td>Pelestarian ekosistem terhadap biodiversitas; ...</td>\n",
       "      <td>Ecoturism Introduction; Sustainable Tourism Pr...</td>\n",
       "    </tr>\n",
       "  </tbody>\n",
       "</table>\n",
       "</div>"
      ],
      "text/plain": [
       "   courseID                                              judul   \n",
       "0         1                             Fundamental Course (1)  \\\n",
       "1         2                             Fundamental Course (2)   \n",
       "2         3                             Fundamental Course (3)   \n",
       "3         4  Indonesia Sustainability Coral Reef University...   \n",
       "4         5                                         Ecotourism   \n",
       "\n",
       "                                           deskripsi   \n",
       "0         Fundamental Attitude toward sustainability  \\\n",
       "1               Innovation method as problem solving   \n",
       "2              The way to build sustainable business   \n",
       "3  Terumbu karang menutupi kurang dari 1% wilayah...   \n",
       "4  Seiring dengan pelonggaran perjalanan dan stab...   \n",
       "\n",
       "                                              dampak   \n",
       "0  mengubah paradigma mengenai sustainability; Me...  \\\n",
       "1  Memahami konsep Growth Mindset; Memahami konse...   \n",
       "2  Mengenal Sustainable Startup; Memahami SDGs po...   \n",
       "3  pelindungan habibat; mengurangi polusi; mengur...   \n",
       "4  Pelestarian ekosistem terhadap biodiversitas; ...   \n",
       "\n",
       "                                               modul  \n",
       "0  Perubahan menuju sustainable mindset; 5 Prinsi...  \n",
       "1  Growth mindset; Design thinking; Lean Startup;...  \n",
       "2  Mengenal Sustainable Startup; SDGs 12 Responsi...  \n",
       "3  Sustainability Leadership; Coral Reef Ecology;...  \n",
       "4  Ecoturism Introduction; Sustainable Tourism Pr...  "
      ]
     },
     "execution_count": 4,
     "metadata": {},
     "output_type": "execute_result"
    }
   ],
   "source": [
    "course.head()"
   ]
  },
  {
   "cell_type": "code",
   "execution_count": 5,
   "id": "00cdeff3-4af1-4794-be9f-e7f868a7e731",
   "metadata": {},
   "outputs": [],
   "source": [
    "course = course.drop(columns='courseID', axis=1)"
   ]
  },
  {
   "cell_type": "code",
   "execution_count": 6,
   "id": "04908784",
   "metadata": {},
   "outputs": [
    {
     "name": "stdout",
     "output_type": "stream",
     "text": [
      "deskripsi:\n",
      "Terumbu karang menutupi kurang dari 1% wilayah lautan, tetapi mereka secara langsung mendukung jutaan orang dengan\n",
      "menyediakan makanan, pekerjaan, dan sumber daya lainnya. Bahkan lebih banyak orang yang mendapat manfaat dari\n",
      "terumbu karang secara tidak langsung; ekosistem ini membantu memberi makan 1 miliar orang di Asia saja.\n",
      "Populasi manusia hampir 7 miliar orang, dan kemungkinan akan tumbuh menjadi 9 miliar pada tahun 2040. Kita\n",
      "membutuhkan terumbu karang (dan ekosistem lainnya) untuk memasok lebih banyak sumber daya untuk mendukung\n",
      "jumlah kita yang terus bertambah, tetapi mereka semakin terancam dengan kehancuran .\n",
      "\n",
      "\n",
      "dampak:\n",
      "pelindungan habibat; mengurangi polusi; mengurangi dampak erosi; promosi pariwisata; meningkatkan komunitas lokal; pemeliharaan agen perubahan berkelanjutan dan perlindungan terumbu karang\n",
      "\n",
      "\n",
      "modul:\n",
      "Sustainability Leadership; Coral Reef Ecology; Human threats & Challenges; Integrating Sustainability in Coral Reef; Improving reef management by sustainable financing for Communities benefit\n",
      "\n",
      "\n"
     ]
    }
   ],
   "source": [
    "# check sample texts\n",
    "def sample_text(df, idx):\n",
    "    for col in df.columns[1:]:\n",
    "        print(f'{col}:')\n",
    "        print(df[col].iloc[idx])\n",
    "        print('\\n')\n",
    "        \n",
    "sample_text(course, 3)"
   ]
  },
  {
   "cell_type": "code",
   "execution_count": 7,
   "id": "c1c62862",
   "metadata": {},
   "outputs": [
    {
     "name": "stdout",
     "output_type": "stream",
     "text": [
      "<class 'pandas.core.frame.DataFrame'>\n",
      "RangeIndex: 11 entries, 0 to 10\n",
      "Data columns (total 4 columns):\n",
      " #   Column     Non-Null Count  Dtype \n",
      "---  ------     --------------  ----- \n",
      " 0   judul      11 non-null     object\n",
      " 1   deskripsi  11 non-null     object\n",
      " 2   dampak     11 non-null     object\n",
      " 3   modul      11 non-null     object\n",
      "dtypes: object(4)\n",
      "memory usage: 480.0+ bytes\n"
     ]
    }
   ],
   "source": [
    "course.info()"
   ]
  },
  {
   "cell_type": "code",
   "execution_count": 8,
   "id": "64724e12-2e1c-44bf-bede-c6aeb95602bc",
   "metadata": {},
   "outputs": [],
   "source": [
    "course2 = course.assign(summary = course['deskripsi'] + ', ' + course['dampak'] + ', ' + course['modul'])\n",
    "course2 = course2.drop(columns=['deskripsi','dampak', 'modul'], axis=1)"
   ]
  },
  {
   "cell_type": "markdown",
   "id": "6f302eae",
   "metadata": {},
   "source": [
    "## Stemming & Remove Stopwords\n",
    "\n",
    "Stemming = mengubah kata imbuhan menjadi kata dasar </br>\n",
    "Stopwords = Stop list ini berisi daftar kata umum yang mempunyai fungsi tapi tidak mempunyai art"
   ]
  },
  {
   "cell_type": "code",
   "execution_count": 9,
   "id": "f6c2b484",
   "metadata": {},
   "outputs": [],
   "source": [
    "course_clean = course2.copy()"
   ]
  },
  {
   "cell_type": "code",
   "execution_count": 10,
   "id": "ce560a87",
   "metadata": {},
   "outputs": [
    {
     "data": {
      "text/plain": [
       "705"
      ]
     },
     "execution_count": 10,
     "metadata": {},
     "output_type": "execute_result"
    }
   ],
   "source": [
    "# create stemmer\n",
    "factory = StemmerFactory()\n",
    "stemmer = factory.create_stemmer()\n",
    "\n",
    "# variable to clear symbols\n",
    "clean_spcl = re.compile('[/(){}\\[\\]\\|@,;]')\n",
    "clean_symbol = re.compile('[^0-9a-z #+_]')\n",
    "\n",
    "# stopword\n",
    "f = open(\"tala_stopword.txt\", \"r\")\n",
    "stopword_list = []\n",
    "for line in f:\n",
    "    stripped_line = line.strip()\n",
    "    line_list = stripped_line.split()\n",
    "    stopword_list.append(line_list[0])\n",
    "f.close()\n",
    "\n",
    "len(stopword_list)"
   ]
  },
  {
   "cell_type": "code",
   "execution_count": 11,
   "id": "265a97e5",
   "metadata": {},
   "outputs": [],
   "source": [
    "def clean_text(text):\n",
    "    \"\"\"\n",
    "    preprocess and clean texts data\n",
    "    and perform stemming to text\n",
    "    input:\n",
    "      text: text value\n",
    "    output\n",
    "      text: text after preprocess\n",
    "    \"\"\"\n",
    "    text = stemmer.stem(text)\n",
    "    text = text.lower() # lowercase text\n",
    "    text = clean_spcl.sub(' ', text)\n",
    "    text = clean_symbol.sub('', text)\n",
    "    text = ' '.join(word for word in text.split() if word not in stopword_list) # hapus stopword dari kolom deskripsi\n",
    "    return text"
   ]
  },
  {
   "cell_type": "code",
   "execution_count": 12,
   "id": "0309fa85",
   "metadata": {},
   "outputs": [],
   "source": [
    "course_clean['summary'] = course_clean['summary'].apply(clean_text)"
   ]
  },
  {
   "cell_type": "code",
   "execution_count": 13,
   "id": "85c9be78",
   "metadata": {},
   "outputs": [
    {
     "name": "stdout",
     "output_type": "stream",
     "text": [
      "summary:\n",
      "terumbu karang tutup 1 wilayah laut langsung dukung juta orang sedia makan kerja sumber daya bahkan banyak orang manfaat terumbu karang langsung ekosistem bantu makan 1 miliar orang asia populasi manusia 7 miliar orang akan tumbuh 9 miliar 2040 butuh terumbu karang ekosistem pasok banyak sumber daya dukung ancam hancur lindung habibat polusi dampak erosi promosi pariwisata tingkat komunitas lokal pelihara agen ubah lindung terumbu karang sustainability leadership coral reef ecology human threats challenges integrating sustainability in coral reef improving reef management by sustainable financing for communities benefit\n",
      "\n",
      "\n"
     ]
    }
   ],
   "source": [
    "sample_text(course_clean, 3)"
   ]
  },
  {
   "cell_type": "markdown",
   "id": "b689b670",
   "metadata": {},
   "source": [
    "## TF-IDF dan Cosine Similarity"
   ]
  },
  {
   "cell_type": "code",
   "execution_count": 14,
   "id": "dd1d7a1e",
   "metadata": {},
   "outputs": [],
   "source": [
    "def conv_to_tf_idf(df, set_to_idx, col_transform):\n",
    "    \"\"\"\n",
    "    convert text value into tf-idf matrices\n",
    "    input:\n",
    "      df: dataset\n",
    "      set_to_idx: set 'judul' column into indices\n",
    "      col_transform: set which column to convert\n",
    "    output:\n",
    "      tfidf_matrix: matrix with tf-idf value\n",
    "    \"\"\"\n",
    "    df.set_index(set_to_idx, inplace=True)\n",
    "    tf = TfidfVectorizer(analyzer='word', ngram_range=(1, 3), min_df=0)\n",
    "    tfidf_matrix = tf.fit_transform(col_transform)\n",
    "    return tfidf_matrix\n",
    "\n",
    "\n",
    "def conv_to_cosim(tfidf_matrix):\n",
    "    \"\"\"\n",
    "    calculates the cosine similarity between \n",
    "    the rows of the TF-IDF matrix \n",
    "    input:  \n",
    "      tfidf_matrix: matrix with tf-idf value\n",
    "    output:\n",
    "      cos_sim: cosine similarity matrix\n",
    "    \"\"\"\n",
    "    cos_sim = cosine_similarity(tfidf_matrix, tfidf_matrix)\n",
    "    return cos_sim"
   ]
  },
  {
   "cell_type": "code",
   "execution_count": 15,
   "id": "289b805c",
   "metadata": {},
   "outputs": [],
   "source": [
    "tfidf_mat = conv_to_tf_idf(course_clean, 'judul', course_clean['summary'])\n",
    "cos_sim_course = conv_to_cosim(tfidf_mat)"
   ]
  },
  {
   "cell_type": "code",
   "execution_count": 16,
   "id": "e8329dd6-ab00-47f3-96d4-91a110c52d50",
   "metadata": {},
   "outputs": [
    {
     "data": {
      "text/plain": [
       "array([[1.        , 0.1159454 , 0.04595966, 0.02483439, 0.00500842,\n",
       "        0.01230051, 0.01183024, 0.053896  , 0.00620651, 0.0330908 ,\n",
       "        0.03570838],\n",
       "       [0.1159454 , 1.        , 0.06809778, 0.        , 0.        ,\n",
       "        0.00651309, 0.        , 0.00399927, 0.        , 0.01433929,\n",
       "        0.10656933],\n",
       "       [0.04595966, 0.06809778, 1.        , 0.00540203, 0.03302793,\n",
       "        0.01310899, 0.02915767, 0.00556084, 0.00806958, 0.04039211,\n",
       "        0.312342  ],\n",
       "       [0.02483439, 0.        , 0.00540203, 1.        , 0.03026998,\n",
       "        0.02630298, 0.00864063, 0.00914667, 0.01229069, 0.00366474,\n",
       "        0.01404477],\n",
       "       [0.00500842, 0.        , 0.03302793, 0.03026998, 1.        ,\n",
       "        0.01928672, 0.01859025, 0.01037204, 0.00901776, 0.01600512,\n",
       "        0.03063227],\n",
       "       [0.01230051, 0.00651309, 0.01310899, 0.02630298, 0.01928672,\n",
       "        1.        , 0.05950171, 0.01562522, 0.04364514, 0.02404054,\n",
       "        0.03012742],\n",
       "       [0.01183024, 0.        , 0.02915767, 0.00864063, 0.01859025,\n",
       "        0.05950171, 1.        , 0.01500125, 0.02190257, 0.02320536,\n",
       "        0.02118875],\n",
       "       [0.053896  , 0.00399927, 0.00556084, 0.00914667, 0.01037204,\n",
       "        0.01562522, 0.01500125, 1.        , 0.00743895, 0.02475615,\n",
       "        0.0382473 ],\n",
       "       [0.00620651, 0.        , 0.00806958, 0.01229069, 0.00901776,\n",
       "        0.04364514, 0.02190257, 0.00743895, 1.        , 0.05051442,\n",
       "        0.02071031],\n",
       "       [0.0330908 , 0.01433929, 0.04039211, 0.00366474, 0.01600512,\n",
       "        0.02404054, 0.02320536, 0.02475615, 0.05051442, 1.        ,\n",
       "        0.3932205 ],\n",
       "       [0.03570838, 0.10656933, 0.312342  , 0.01404477, 0.03063227,\n",
       "        0.03012742, 0.02118875, 0.0382473 , 0.02071031, 0.3932205 ,\n",
       "        1.        ]])"
      ]
     },
     "execution_count": 16,
     "metadata": {},
     "output_type": "execute_result"
    }
   ],
   "source": [
    "cos_sim_course"
   ]
  },
  {
   "cell_type": "code",
   "execution_count": 17,
   "id": "b0231570",
   "metadata": {},
   "outputs": [
    {
     "data": {
      "text/plain": [
       "0                                Fundamental Course (1)\n",
       "1                                Fundamental Course (2)\n",
       "2                                Fundamental Course (3)\n",
       "3     Indonesia Sustainability Coral Reef University...\n",
       "4                                            Ecotourism\n",
       "5                                       Moringa Academy\n",
       "6     Indonesia Sustainable Social Forestry Educatio...\n",
       "7                                      Waste Management\n",
       "8                                    Integrated Farming\n",
       "9                                         Solar Academy\n",
       "10                                      Program Startup\n",
       "Name: judul, dtype: object"
      ]
     },
     "execution_count": 17,
     "metadata": {},
     "output_type": "execute_result"
    }
   ],
   "source": [
    "indices = pd.Series(course_clean.index)\n",
    "indices"
   ]
  },
  {
   "cell_type": "code",
   "execution_count": 18,
   "id": "62b983ed",
   "metadata": {},
   "outputs": [],
   "source": [
    "def recommendations(name, cos_sim = cos_sim_course):\n",
    "    \"\"\"\n",
    "    generates recommendations based on \n",
    "    content similarity\n",
    "    input:\n",
    "        name: course title\n",
    "        cos_sim: cosine similarity matrix\n",
    "    output:\n",
    "        course_rec: list of sorted recommendation by nearest similarity\n",
    "    \"\"\"\n",
    "    course_rec = []\n",
    "\n",
    "    # pick course title based on indices variable\n",
    "    idx = indices[indices == name].index[0]\n",
    "\n",
    "    # create series based on similarity\n",
    "    score_series = pd.Series(cos_sim[idx]).sort_values(ascending = False)\n",
    "\n",
    "    # Extract the indices and generate the top 10 recommendations\n",
    "    top_10_indexes = list(score_series.iloc[1:11].index)\n",
    "    for i in top_10_indexes:\n",
    "        course_rec.append(list(course_clean.index)[i])\n",
    "\n",
    "    return course_rec"
   ]
  },
  {
   "cell_type": "code",
   "execution_count": 19,
   "id": "fd13396a",
   "metadata": {},
   "outputs": [
    {
     "data": {
      "text/plain": [
       "['Indonesia Sustainable Social Forestry Education Program (IS-FREE)',\n",
       " 'Integrated Farming',\n",
       " 'Program Startup',\n",
       " 'Indonesia Sustainability Coral Reef University Network (ISCORE)',\n",
       " 'Solar Academy',\n",
       " 'Ecotourism',\n",
       " 'Waste Management',\n",
       " 'Fundamental Course (3)',\n",
       " 'Fundamental Course (1)',\n",
       " 'Fundamental Course (2)']"
      ]
     },
     "execution_count": 19,
     "metadata": {},
     "output_type": "execute_result"
    }
   ],
   "source": [
    "course_title = 'Moringa Academy'\n",
    "recommendations(course_title)"
   ]
  },
  {
   "cell_type": "code",
   "execution_count": null,
   "id": "e08cd04d-89b7-4f94-964d-13dec0a6ea3c",
   "metadata": {},
   "outputs": [],
   "source": []
  }
 ],
 "metadata": {
  "kernelspec": {
   "display_name": "Python [conda env:tf]",
   "language": "python",
   "name": "conda-env-tf-py"
  },
  "language_info": {
   "codemirror_mode": {
    "name": "ipython",
    "version": 3
   },
   "file_extension": ".py",
   "mimetype": "text/x-python",
   "name": "python",
   "nbconvert_exporter": "python",
   "pygments_lexer": "ipython3",
   "version": "3.10.9"
  }
 },
 "nbformat": 4,
 "nbformat_minor": 5
}
