{
 "cells": [
  {
   "cell_type": "markdown",
   "id": "16f06677-27b5-43ce-af42-98ae0f66e4fe",
   "metadata": {},
   "source": [
    "## Import Libraries"
   ]
  },
  {
   "cell_type": "code",
   "execution_count": 31,
   "id": "a2ed7f1a-abe3-4273-b145-7479af5e5370",
   "metadata": {},
   "outputs": [
    {
     "name": "stderr",
     "output_type": "stream",
     "text": [
      "2023-06-02 18:46:22.331815: I tensorflow/core/util/port.cc:110] oneDNN custom operations are on. You may see slightly different numerical results due to floating-point round-off errors from different computation orders. To turn them off, set the environment variable `TF_ENABLE_ONEDNN_OPTS=0`.\n",
      "2023-06-02 18:46:22.546086: I tensorflow/core/platform/cpu_feature_guard.cc:182] This TensorFlow binary is optimized to use available CPU instructions in performance-critical operations.\n",
      "To enable the following instructions: AVX2 AVX_VNNI FMA, in other operations, rebuild TensorFlow with the appropriate compiler flags.\n"
     ]
    }
   ],
   "source": [
    "import pandas as pd\n",
    "import numpy as np\n",
    "\n",
    "from nltk.corpus import stopwords\n",
    "import re\n",
    "import random\n",
    "# from Sastrawi.StopWordRemover.StopWordRemoverFactory import StopWordRemoverFactory\n",
    "from Sastrawi.Stemmer.StemmerFactory import StemmerFactory\n",
    "\n",
    "import tensorflow as tf\n",
    "from tensorflow.keras.layers import Input, Embedding, LSTM, Dense, Lambda\n",
    "from tensorflow.keras.models import Model\n",
    "from tensorflow.keras import backend as K\n",
    "from sklearn.feature_extraction.text import TfidfVectorizer\n",
    "from sklearn.metrics.pairwise import cosine_similarity"
   ]
  },
  {
   "cell_type": "code",
   "execution_count": 3,
   "id": "f41e017f-ec7d-4984-987d-4e53d7a2f42f",
   "metadata": {},
   "outputs": [],
   "source": [
    "course = pd.read_csv('course.csv')\n",
    "prob = pd.read_csv('problemstate.csv')"
   ]
  },
  {
   "cell_type": "code",
   "execution_count": 4,
   "id": "aed0f5be-51b0-467b-9f3c-bcbdc06a10d8",
   "metadata": {},
   "outputs": [
    {
     "data": {
      "text/html": [
       "<div>\n",
       "<style scoped>\n",
       "    .dataframe tbody tr th:only-of-type {\n",
       "        vertical-align: middle;\n",
       "    }\n",
       "\n",
       "    .dataframe tbody tr th {\n",
       "        vertical-align: top;\n",
       "    }\n",
       "\n",
       "    .dataframe thead th {\n",
       "        text-align: right;\n",
       "    }\n",
       "</style>\n",
       "<table border=\"1\" class=\"dataframe\">\n",
       "  <thead>\n",
       "    <tr style=\"text-align: right;\">\n",
       "      <th></th>\n",
       "      <th>courseID</th>\n",
       "      <th>judul</th>\n",
       "      <th>deskripsi</th>\n",
       "      <th>dampak</th>\n",
       "      <th>modul</th>\n",
       "    </tr>\n",
       "  </thead>\n",
       "  <tbody>\n",
       "    <tr>\n",
       "      <th>0</th>\n",
       "      <td>1</td>\n",
       "      <td>Fundamental Course (1)</td>\n",
       "      <td>Fundamental Attitude toward sustainability</td>\n",
       "      <td>mengubah paradigma mengenai sustainability; Me...</td>\n",
       "      <td>Perubahan menuju sustainable mindset; 5 Prinsi...</td>\n",
       "    </tr>\n",
       "    <tr>\n",
       "      <th>1</th>\n",
       "      <td>2</td>\n",
       "      <td>Fundamental Course (2)</td>\n",
       "      <td>Innovation method as problem solving</td>\n",
       "      <td>Memahami konsep Growth Mindset; Memahami konse...</td>\n",
       "      <td>Growth mindset; Design thinking; Lean Startup;...</td>\n",
       "    </tr>\n",
       "    <tr>\n",
       "      <th>2</th>\n",
       "      <td>3</td>\n",
       "      <td>Fundamental Course (3)</td>\n",
       "      <td>The way to build sustainable business</td>\n",
       "      <td>Mengenal Sustainable Startup; Memahami SDGs po...</td>\n",
       "      <td>Mengenal Sustainable Startup; SDGs 12 Responsi...</td>\n",
       "    </tr>\n",
       "    <tr>\n",
       "      <th>3</th>\n",
       "      <td>4</td>\n",
       "      <td>Indonesia Sustainability Coral Reef University...</td>\n",
       "      <td>Terumbu karang menutupi kurang dari 1% wilayah...</td>\n",
       "      <td>pelindungan habibat; mengurangi polusi; mengur...</td>\n",
       "      <td>Sustainability Leadership; Coral Reef Ecology;...</td>\n",
       "    </tr>\n",
       "    <tr>\n",
       "      <th>4</th>\n",
       "      <td>5</td>\n",
       "      <td>Ecotourism</td>\n",
       "      <td>Seiring dengan pelonggaran perjalanan dan stab...</td>\n",
       "      <td>Pelestarian ekosistem terhadap biodiversitas; ...</td>\n",
       "      <td>Ecoturism Introduction; Sustainable Tourism Pr...</td>\n",
       "    </tr>\n",
       "  </tbody>\n",
       "</table>\n",
       "</div>"
      ],
      "text/plain": [
       "   courseID                                              judul   \n",
       "0         1                             Fundamental Course (1)  \\\n",
       "1         2                             Fundamental Course (2)   \n",
       "2         3                             Fundamental Course (3)   \n",
       "3         4  Indonesia Sustainability Coral Reef University...   \n",
       "4         5                                         Ecotourism   \n",
       "\n",
       "                                           deskripsi   \n",
       "0         Fundamental Attitude toward sustainability  \\\n",
       "1               Innovation method as problem solving   \n",
       "2              The way to build sustainable business   \n",
       "3  Terumbu karang menutupi kurang dari 1% wilayah...   \n",
       "4  Seiring dengan pelonggaran perjalanan dan stab...   \n",
       "\n",
       "                                              dampak   \n",
       "0  mengubah paradigma mengenai sustainability; Me...  \\\n",
       "1  Memahami konsep Growth Mindset; Memahami konse...   \n",
       "2  Mengenal Sustainable Startup; Memahami SDGs po...   \n",
       "3  pelindungan habibat; mengurangi polusi; mengur...   \n",
       "4  Pelestarian ekosistem terhadap biodiversitas; ...   \n",
       "\n",
       "                                               modul  \n",
       "0  Perubahan menuju sustainable mindset; 5 Prinsi...  \n",
       "1  Growth mindset; Design thinking; Lean Startup;...  \n",
       "2  Mengenal Sustainable Startup; SDGs 12 Responsi...  \n",
       "3  Sustainability Leadership; Coral Reef Ecology;...  \n",
       "4  Ecoturism Introduction; Sustainable Tourism Pr...  "
      ]
     },
     "execution_count": 3,
     "metadata": {},
     "output_type": "execute_result"
    }
   ],
   "source": [
    "course.head()"
   ]
  },
  {
   "cell_type": "code",
   "execution_count": 6,
   "id": "a7d050f4-5da3-441d-9f68-8088a99f5157",
   "metadata": {},
   "outputs": [],
   "source": [
    "course.drop(columns='courseID', axis=1, inplace=True)"
   ]
  },
  {
   "cell_type": "code",
   "execution_count": 5,
   "id": "2fd707a6-c274-4fe2-953f-894271f82478",
   "metadata": {},
   "outputs": [
    {
     "data": {
      "text/html": [
       "<div>\n",
       "<style scoped>\n",
       "    .dataframe tbody tr th:only-of-type {\n",
       "        vertical-align: middle;\n",
       "    }\n",
       "\n",
       "    .dataframe tbody tr th {\n",
       "        vertical-align: top;\n",
       "    }\n",
       "\n",
       "    .dataframe thead th {\n",
       "        text-align: right;\n",
       "    }\n",
       "</style>\n",
       "<table border=\"1\" class=\"dataframe\">\n",
       "  <thead>\n",
       "    <tr style=\"text-align: right;\">\n",
       "      <th></th>\n",
       "      <th>desa</th>\n",
       "      <th>problem</th>\n",
       "      <th>lokasi</th>\n",
       "    </tr>\n",
       "  </thead>\n",
       "  <tbody>\n",
       "    <tr>\n",
       "      <th>0</th>\n",
       "      <td>desa pinogu</td>\n",
       "      <td>Budidaya dan pengolahan kopi</td>\n",
       "      <td>gorontalo</td>\n",
       "    </tr>\n",
       "    <tr>\n",
       "      <th>1</th>\n",
       "      <td>desa pinogu</td>\n",
       "      <td>Pengolahan produk dari sapi</td>\n",
       "      <td>gorontalo</td>\n",
       "    </tr>\n",
       "    <tr>\n",
       "      <th>2</th>\n",
       "      <td>desa pinogu</td>\n",
       "      <td>Akses jalan yang buruk</td>\n",
       "      <td>gorontalo</td>\n",
       "    </tr>\n",
       "    <tr>\n",
       "      <th>3</th>\n",
       "      <td>desa pinogu</td>\n",
       "      <td>Listrik yang kurang menyeluruh</td>\n",
       "      <td>gorontalo</td>\n",
       "    </tr>\n",
       "    <tr>\n",
       "      <th>4</th>\n",
       "      <td>desa pinogu</td>\n",
       "      <td>Jaringan internet yang kurang lancar</td>\n",
       "      <td>gorontalo</td>\n",
       "    </tr>\n",
       "  </tbody>\n",
       "</table>\n",
       "</div>"
      ],
      "text/plain": [
       "          desa                               problem     lokasi\n",
       "0  desa pinogu          Budidaya dan pengolahan kopi  gorontalo\n",
       "1  desa pinogu           Pengolahan produk dari sapi  gorontalo\n",
       "2  desa pinogu                Akses jalan yang buruk  gorontalo\n",
       "3  desa pinogu        Listrik yang kurang menyeluruh  gorontalo\n",
       "4  desa pinogu  Jaringan internet yang kurang lancar  gorontalo"
      ]
     },
     "execution_count": 5,
     "metadata": {},
     "output_type": "execute_result"
    }
   ],
   "source": [
    "prob.head()"
   ]
  },
  {
   "cell_type": "markdown",
   "id": "7e07dfc2-679b-469d-ae6f-a529ede7e45a",
   "metadata": {},
   "source": [
    "## Preprocessing"
   ]
  },
  {
   "cell_type": "code",
   "execution_count": 7,
   "id": "7b6c4c44-487e-4511-a228-dc225502c824",
   "metadata": {},
   "outputs": [
    {
     "name": "stdout",
     "output_type": "stream",
     "text": [
      "judul:\n",
      "Indonesia Sustainability Coral Reef University Network (ISCORE)\n",
      "\n",
      "\n",
      "deskripsi:\n",
      "Terumbu karang menutupi kurang dari 1% wilayah lautan, tetapi mereka secara langsung mendukung jutaan orang dengan\n",
      "menyediakan makanan, pekerjaan, dan sumber daya lainnya. Bahkan lebih banyak orang yang mendapat manfaat dari\n",
      "terumbu karang secara tidak langsung; ekosistem ini membantu memberi makan 1 miliar orang di Asia saja.\n",
      "Populasi manusia hampir 7 miliar orang, dan kemungkinan akan tumbuh menjadi 9 miliar pada tahun 2040. Kita\n",
      "membutuhkan terumbu karang (dan ekosistem lainnya) untuk memasok lebih banyak sumber daya untuk mendukung\n",
      "jumlah kita yang terus bertambah, tetapi mereka semakin terancam dengan kehancuran .\n",
      "\n",
      "\n",
      "dampak:\n",
      "pelindungan habibat; mengurangi polusi; mengurangi dampak erosi; promosi pariwisata; meningkatkan komunitas lokal; pemeliharaan agen perubahan berkelanjutan dan perlindungan terumbu karang\n",
      "\n",
      "\n",
      "modul:\n",
      "Sustainability Leadership; Coral Reef Ecology; Human threats & Challenges; Integrating Sustainability in Coral Reef; Improving reef management by sustainable financing for Communities benefit\n",
      "\n",
      "\n"
     ]
    }
   ],
   "source": [
    "# periksa sampel teks\n",
    "def sample_text(df, idx):\n",
    "    for col in df.columns:\n",
    "        print(f'{col}:')\n",
    "        print(df[col].iloc[idx])\n",
    "        print('\\n')\n",
    "        \n",
    "sample_text(course, 3)"
   ]
  },
  {
   "cell_type": "code",
   "execution_count": 9,
   "id": "ba35db0e-44d1-4c89-ad88-eb6f4cca14c6",
   "metadata": {},
   "outputs": [],
   "source": [
    "# agregat tiap masalah pada 1 desa\n",
    "problem_agg = (prob.groupby(['desa','lokasi'])\n",
    "          .agg({'problem': lambda x: \", \".join(x)})\n",
    "          .reset_index())\n",
    "\n",
    "problem_agg = problem_agg.assign(loc_desa = problem_agg['desa'] + ', ' + problem_agg['lokasi'])\n",
    "problem_agg = problem_agg.drop(columns=['desa','lokasi'], axis=1)"
   ]
  },
  {
   "cell_type": "code",
   "execution_count": 10,
   "id": "0acec967-3dad-4ea8-be2f-d7ac75fda303",
   "metadata": {},
   "outputs": [
    {
     "name": "stdout",
     "output_type": "stream",
     "text": [
      "problem:\n",
      "Fasilitas penunjang wisata yang masih minim, Wisata kuliner yang terbatas, Akses informasi wisata yang masih terbatas, Faslitas penunjang yang masih terbatas, Belum ada inovasi pengelolaan SDA, seperti makanan sebagai wisata kuliner., Sumber daya manusia yang rendah untuk mengembangkan potensia yang ada.\n",
      "\n",
      "\n",
      "loc_desa:\n",
      "desa aimoli, alor\n",
      "\n",
      "\n"
     ]
    }
   ],
   "source": [
    "sample_text(problem_agg, 0)"
   ]
  },
  {
   "cell_type": "code",
   "execution_count": 11,
   "id": "6756611e-dd64-4868-ad5d-bc135053cbb3",
   "metadata": {},
   "outputs": [
    {
     "name": "stdout",
     "output_type": "stream",
     "text": [
      "judul:\n",
      "Indonesia Sustainability Coral Reef University Network (ISCORE)\n",
      "\n",
      "\n",
      "summary:\n",
      "Terumbu karang menutupi kurang dari 1% wilayah lautan, tetapi mereka secara langsung mendukung jutaan orang dengan\n",
      "menyediakan makanan, pekerjaan, dan sumber daya lainnya. Bahkan lebih banyak orang yang mendapat manfaat dari\n",
      "terumbu karang secara tidak langsung; ekosistem ini membantu memberi makan 1 miliar orang di Asia saja.\n",
      "Populasi manusia hampir 7 miliar orang, dan kemungkinan akan tumbuh menjadi 9 miliar pada tahun 2040. Kita\n",
      "membutuhkan terumbu karang (dan ekosistem lainnya) untuk memasok lebih banyak sumber daya untuk mendukung\n",
      "jumlah kita yang terus bertambah, tetapi mereka semakin terancam dengan kehancuran ., pelindungan habibat; mengurangi polusi; mengurangi dampak erosi; promosi pariwisata; meningkatkan komunitas lokal; pemeliharaan agen perubahan berkelanjutan dan perlindungan terumbu karang, Sustainability Leadership; Coral Reef Ecology; Human threats & Challenges; Integrating Sustainability in Coral Reef; Improving reef management by sustainable financing for Communities benefit\n",
      "\n",
      "\n"
     ]
    }
   ],
   "source": [
    "# menggabungkan deskripsi dan dampak pada course menjadi 1 kolom\n",
    "course2 = course.assign(summary = course['deskripsi'] + ', ' + course['dampak'] + ', ' + course['modul'])\n",
    "course2 = course2.drop(columns=['deskripsi','dampak','modul'], axis=1)\n",
    "\n",
    "sample_text(course2, 3)"
   ]
  },
  {
   "cell_type": "markdown",
   "id": "20f8a454-6aaa-4ad1-a3d2-c29f023d61fc",
   "metadata": {},
   "source": [
    "### Stemming and Stopword Removal"
   ]
  },
  {
   "cell_type": "code",
   "execution_count": 12,
   "id": "b3c0de0a-0f4f-44d2-a679-ed9efaeff3d9",
   "metadata": {},
   "outputs": [],
   "source": [
    "course_clean = course2.copy()\n",
    "prob_clean = problem_agg.copy()"
   ]
  },
  {
   "cell_type": "code",
   "execution_count": 13,
   "id": "38e0acdf-a381-4dbd-a251-9b314c63219c",
   "metadata": {},
   "outputs": [
    {
     "data": {
      "text/plain": [
       "705"
      ]
     },
     "execution_count": 11,
     "metadata": {},
     "output_type": "execute_result"
    }
   ],
   "source": [
    "# create stemmer\n",
    "factory = StemmerFactory()\n",
    "stemmer = factory.create_stemmer()\n",
    "\n",
    "# menghilangkan simbol\n",
    "clean_spcl = re.compile('[/(){}\\[\\]\\|@,;]')\n",
    "clean_symbol = re.compile('[^0-9a-z #+_]')\n",
    "\n",
    "# upload stopword indonesia\n",
    "f = open(\"tala_stopword.txt\", \"r\")\n",
    "stopword_list = []\n",
    "for line in f:\n",
    "    stripped_line = line.strip()\n",
    "    line_list = stripped_line.split()\n",
    "    stopword_list.append(line_list[0])\n",
    "f.close()\n",
    "\n",
    "len(stopword_list)"
   ]
  },
  {
   "cell_type": "code",
   "execution_count": 14,
   "id": "942b04cb-9a6c-4788-ae56-353b9a4e4890",
   "metadata": {},
   "outputs": [],
   "source": [
    "def clean_text(text):\n",
    "    text = stemmer.stem(text)\n",
    "    text = text.lower() # lowercase teks\n",
    "    text = clean_spcl.sub(' ', text)\n",
    "    text = clean_symbol.sub('', text)\n",
    "    text = ' '.join(word for word in text.split() if word not in stopword_list) # hapus stopword dari kolom deskripsi\n",
    "    return text"
   ]
  },
  {
   "cell_type": "code",
   "execution_count": 15,
   "id": "18a54dc6-bec8-4764-b8c8-9723ec009b08",
   "metadata": {},
   "outputs": [],
   "source": [
    "course_clean['summary'] = course_clean['summary'].apply(clean_text)\n",
    "# course_clean['modul'] = course_clean['modul'].apply(clean_text)\n",
    "prob_clean['problem'] = problem_agg['problem'].apply(clean_text)"
   ]
  },
  {
   "cell_type": "code",
   "execution_count": 16,
   "id": "c4c70331-2fad-449e-ad13-c850fd76d0da",
   "metadata": {},
   "outputs": [
    {
     "name": "stdout",
     "output_type": "stream",
     "text": [
      "judul:\n",
      "Indonesia Sustainability Coral Reef University Network (ISCORE)\n",
      "\n",
      "\n",
      "summary:\n",
      "terumbu karang tutup 1 wilayah laut langsung dukung juta orang sedia makan kerja sumber daya bahkan banyak orang manfaat terumbu karang langsung ekosistem bantu makan 1 miliar orang asia populasi manusia 7 miliar orang akan tumbuh 9 miliar 2040 butuh terumbu karang ekosistem pasok banyak sumber daya dukung ancam hancur lindung habibat polusi dampak erosi promosi pariwisata tingkat komunitas lokal pelihara agen ubah lindung terumbu karang sustainability leadership coral reef ecology human threats challenges integrating sustainability in coral reef improving reef management by sustainable financing for communities benefit\n",
      "\n",
      "\n"
     ]
    }
   ],
   "source": [
    "sample_text(course_clean, 3)"
   ]
  },
  {
   "cell_type": "code",
   "execution_count": 17,
   "id": "8a9dff78-4e8e-494d-b6cb-be0f96bca542",
   "metadata": {},
   "outputs": [
    {
     "name": "stdout",
     "output_type": "stream",
     "text": [
      "problem:\n",
      "fasilitas tunjang wisata minim wisata kuliner batas akses informasi wisata batas faslitas tunjang batas ada inovasi kelola sda makan bagai wisata kuliner sumber daya manusia rendah kembang potensia ada\n",
      "\n",
      "\n",
      "loc_desa:\n",
      "desa aimoli, alor\n",
      "\n",
      "\n"
     ]
    }
   ],
   "source": [
    "sample_text(prob_clean, 0)"
   ]
  },
  {
   "cell_type": "code",
   "execution_count": 22,
   "id": "3e4f7520-14b0-46e4-848c-39f60260b00f",
   "metadata": {},
   "outputs": [],
   "source": [
    "# set judul course sebagai index\n",
    "course_clean.set_index('judul', inplace=True)\n",
    "# set lokasi desa sebagai index\n",
    "prob_clean.set_index('loc_desa', inplace=True)"
   ]
  },
  {
   "cell_type": "code",
   "execution_count": 23,
   "id": "e1b19d9c-a43d-4a7d-a064-78f0b009e04b",
   "metadata": {},
   "outputs": [],
   "source": [
    "def preprocess_text_data(df_col):\n",
    "    vectorizer = TfidfVectorizer()\n",
    "    vectors = vectorizer.fit_transform(df_col)\n",
    "    return vectors.toarray()"
   ]
  },
  {
   "cell_type": "code",
   "execution_count": 27,
   "id": "611eca52-4d82-4b00-ab9d-90ba5bed009a",
   "metadata": {},
   "outputs": [],
   "source": [
    "coba = preprocess_text_data(course_clean['summary'])"
   ]
  },
  {
   "cell_type": "code",
   "execution_count": 28,
   "id": "36210884-94d9-49a3-9904-87168bb11417",
   "metadata": {},
   "outputs": [
    {
     "data": {
      "text/plain": [
       "array([[0.        , 0.09363028, 0.        , ..., 0.        , 0.        ,\n",
       "        0.        ],\n",
       "       [0.        , 0.        , 0.        , ..., 0.        , 0.        ,\n",
       "        0.        ],\n",
       "       [0.        , 0.09644434, 0.        , ..., 0.        , 0.        ,\n",
       "        0.        ],\n",
       "       ...,\n",
       "       [0.        , 0.        , 0.        , ..., 0.        , 0.        ,\n",
       "        0.        ],\n",
       "       [0.        , 0.        , 0.        , ..., 0.        , 0.0485924 ,\n",
       "        0.        ],\n",
       "       [0.        , 0.05866575, 0.        , ..., 0.        , 0.05242787,\n",
       "        0.        ]])"
      ]
     },
     "execution_count": 28,
     "metadata": {},
     "output_type": "execute_result"
    }
   ],
   "source": [
    "coba"
   ]
  },
  {
   "cell_type": "code",
   "execution_count": 29,
   "id": "58e27e7e-a99f-4093-9d51-b43d4ab073cd",
   "metadata": {},
   "outputs": [],
   "source": [
    "coba2 = preprocess_text_data(prob_clean['problem'])"
   ]
  },
  {
   "cell_type": "code",
   "execution_count": 30,
   "id": "f455fc0a-e6f6-43d2-8e0a-925f7658d8b2",
   "metadata": {},
   "outputs": [
    {
     "data": {
      "text/plain": [
       "array([[0.        , 0.15833227, 0.        , 0.        , 0.        ,\n",
       "        0.        , 0.09359983, 0.        , 0.        , 0.        ,\n",
       "        0.        , 0.        , 0.        , 0.        , 0.        ,\n",
       "        0.        , 0.16613903, 0.        , 0.        , 0.        ,\n",
       "        0.49841708, 0.        , 0.        , 0.        , 0.        ,\n",
       "        0.        , 0.        , 0.        , 0.        , 0.        ,\n",
       "        0.        , 0.        , 0.        , 0.        , 0.        ,\n",
       "        0.        , 0.11126524, 0.        , 0.        , 0.        ,\n",
       "        0.        , 0.13403992, 0.16613903, 0.        , 0.        ,\n",
       "        0.        , 0.        , 0.        , 0.        , 0.        ,\n",
       "        0.13403992, 0.        , 0.16613903, 0.        , 0.        ,\n",
       "        0.        , 0.        , 0.        , 0.        , 0.        ,\n",
       "        0.        , 0.        , 0.        , 0.        , 0.        ,\n",
       "        0.        , 0.07916614, 0.11126524, 0.        , 0.        ,\n",
       "        0.        , 0.33227805, 0.        , 0.        , 0.        ,\n",
       "        0.        , 0.        , 0.        , 0.        , 0.        ,\n",
       "        0.        , 0.        , 0.        , 0.13403992, 0.        ,\n",
       "        0.        , 0.        , 0.13403992, 0.        , 0.        ,\n",
       "        0.        , 0.        , 0.11126524, 0.        , 0.        ,\n",
       "        0.        , 0.        , 0.        , 0.        , 0.        ,\n",
       "        0.        , 0.        , 0.        , 0.        , 0.        ,\n",
       "        0.        , 0.        , 0.        , 0.        , 0.        ,\n",
       "        0.        , 0.        , 0.16613903, 0.        , 0.        ,\n",
       "        0.        , 0.        , 0.        , 0.        , 0.        ,\n",
       "        0.        , 0.16613903, 0.        , 0.        , 0.        ,\n",
       "        0.        , 0.        , 0.        , 0.16613903, 0.        ,\n",
       "        0.        , 0.        , 0.        , 0.        , 0.        ,\n",
       "        0.        , 0.        , 0.13403992, 0.        , 0.        ,\n",
       "        0.        , 0.        , 0.        , 0.        , 0.        ,\n",
       "        0.        , 0.        , 0.        , 0.        , 0.        ,\n",
       "        0.        , 0.        , 0.        , 0.        , 0.33227805,\n",
       "        0.        , 0.        , 0.        , 0.        , 0.44506097,\n",
       "        0.        ],\n",
       "       [0.        , 0.18282711, 0.        , 0.        , 0.        ,\n",
       "        0.        , 0.05404011, 0.        , 0.0959208 , 0.        ,\n",
       "        0.        , 0.        , 0.        , 0.        , 0.        ,\n",
       "        0.        , 0.        , 0.        , 0.        , 0.        ,\n",
       "        0.        , 0.        , 0.        , 0.        , 0.        ,\n",
       "        0.12847856, 0.        , 0.0773883 , 0.        , 0.        ,\n",
       "        0.        , 0.        , 0.        , 0.        , 0.        ,\n",
       "        0.        , 0.        , 0.        , 0.        , 0.        ,\n",
       "        0.        , 0.        , 0.        , 0.        , 0.        ,\n",
       "        0.        , 0.0959208 , 0.        , 0.        , 0.0959208 ,\n",
       "        0.        , 0.0773883 , 0.        , 0.        , 0.        ,\n",
       "        0.        , 0.        , 0.        , 0.0773883 , 0.        ,\n",
       "        0.        , 0.        , 0.        , 0.        , 0.        ,\n",
       "        0.19184161, 0.04570678, 0.06423928, 0.38368322, 0.        ,\n",
       "        0.1547766 , 0.        , 0.0959208 , 0.        , 0.        ,\n",
       "        0.        , 0.        , 0.1547766 , 0.0959208 , 0.        ,\n",
       "        0.0773883 , 0.05404011, 0.        , 0.        , 0.        ,\n",
       "        0.        , 0.        , 0.        , 0.        , 0.0773883 ,\n",
       "        0.0959208 , 0.28776241, 0.44967497, 0.        , 0.        ,\n",
       "        0.        , 0.38694151, 0.        , 0.        , 0.0959208 ,\n",
       "        0.        , 0.        , 0.        , 0.19184161, 0.        ,\n",
       "        0.        , 0.        , 0.        , 0.1547766 , 0.        ,\n",
       "        0.        , 0.        , 0.        , 0.        , 0.06423928,\n",
       "        0.        , 0.        , 0.1547766 , 0.        , 0.        ,\n",
       "        0.        , 0.        , 0.        , 0.        , 0.        ,\n",
       "        0.        , 0.        , 0.        , 0.        , 0.0773883 ,\n",
       "        0.        , 0.        , 0.        , 0.        , 0.        ,\n",
       "        0.        , 0.19271784, 0.        , 0.        , 0.0959208 ,\n",
       "        0.        , 0.        , 0.        , 0.0773883 , 0.        ,\n",
       "        0.        , 0.        , 0.        , 0.        , 0.        ,\n",
       "        0.        , 0.        , 0.        , 0.        , 0.        ,\n",
       "        0.0959208 , 0.        , 0.12847856, 0.        , 0.06423928,\n",
       "        0.        ],\n",
       "       [0.        , 0.12283138, 0.        , 0.        , 0.        ,\n",
       "        0.        , 0.07261309, 0.        , 0.        , 0.12888772,\n",
       "        0.        , 0.        , 0.        , 0.        , 0.        ,\n",
       "        0.12888772, 0.        , 0.        , 0.2079716 , 0.        ,\n",
       "        0.        , 0.        , 0.        , 0.        , 0.        ,\n",
       "        0.        , 0.        , 0.        , 0.25777544, 0.        ,\n",
       "        0.        , 0.1039858 , 0.25777544, 0.        , 0.        ,\n",
       "        0.        , 0.        , 0.        , 0.12888772, 0.        ,\n",
       "        0.        , 0.        , 0.        , 0.        , 0.        ,\n",
       "        0.        , 0.        , 0.        , 0.25777544, 0.        ,\n",
       "        0.        , 0.        , 0.        , 0.        , 0.2079716 ,\n",
       "        0.        , 0.        , 0.        , 0.        , 0.1039858 ,\n",
       "        0.        , 0.        , 0.        , 0.        , 0.        ,\n",
       "        0.        , 0.12283138, 0.        , 0.        , 0.        ,\n",
       "        0.        , 0.        , 0.        , 0.        , 0.        ,\n",
       "        0.        , 0.        , 0.        , 0.        , 0.        ,\n",
       "        0.        , 0.07261309, 0.        , 0.        , 0.        ,\n",
       "        0.        , 0.        , 0.        , 0.12888772, 0.        ,\n",
       "        0.        , 0.        , 0.        , 0.        , 0.        ,\n",
       "        0.        , 0.        , 0.        , 0.        , 0.        ,\n",
       "        0.        , 0.25777544, 0.08631761, 0.        , 0.        ,\n",
       "        0.        , 0.        , 0.        , 0.        , 0.        ,\n",
       "        0.12888772, 0.        , 0.        , 0.12888772, 0.25895283,\n",
       "        0.12888772, 0.        , 0.        , 0.12888772, 0.        ,\n",
       "        0.        , 0.        , 0.        , 0.        , 0.31195741,\n",
       "        0.        , 0.12888772, 0.        , 0.        , 0.        ,\n",
       "        0.        , 0.25777544, 0.        , 0.        , 0.12888772,\n",
       "        0.12888772, 0.17263522, 0.        , 0.12888772, 0.        ,\n",
       "        0.        , 0.        , 0.12888772, 0.        , 0.        ,\n",
       "        0.        , 0.        , 0.12888772, 0.        , 0.        ,\n",
       "        0.25777544, 0.        , 0.        , 0.1039858 , 0.        ,\n",
       "        0.        , 0.        , 0.08631761, 0.        , 0.        ,\n",
       "        0.        ],\n",
       "       [0.09794243, 0.04667009, 0.09794243, 0.        , 0.        ,\n",
       "        0.        , 0.05517906, 0.09794243, 0.        , 0.        ,\n",
       "        0.        , 0.19588486, 0.        , 0.09794243, 0.        ,\n",
       "        0.        , 0.        , 0.09794243, 0.        , 0.09794243,\n",
       "        0.        , 0.09794243, 0.        , 0.09794243, 0.        ,\n",
       "        0.06559319, 0.09794243, 0.07901933, 0.        , 0.07901933,\n",
       "        0.29382728, 0.        , 0.        , 0.        , 0.19588486,\n",
       "        0.09794243, 0.19677956, 0.        , 0.        , 0.        ,\n",
       "        0.        , 0.        , 0.        , 0.07901933, 0.        ,\n",
       "        0.09794243, 0.        , 0.        , 0.        , 0.        ,\n",
       "        0.        , 0.07901933, 0.        , 0.09794243, 0.07901933,\n",
       "        0.09794243, 0.        , 0.09794243, 0.07901933, 0.        ,\n",
       "        0.        , 0.09794243, 0.09794243, 0.09794243, 0.19588486,\n",
       "        0.        , 0.18668037, 0.13118637, 0.        , 0.        ,\n",
       "        0.07901933, 0.        , 0.        , 0.09794243, 0.19588486,\n",
       "        0.        , 0.09794243, 0.07901933, 0.        , 0.        ,\n",
       "        0.15803867, 0.05517906, 0.        , 0.        , 0.        ,\n",
       "        0.        , 0.09794243, 0.07901933, 0.        , 0.        ,\n",
       "        0.        , 0.        , 0.        , 0.09794243, 0.        ,\n",
       "        0.09794243, 0.15803867, 0.07901933, 0.        , 0.        ,\n",
       "        0.29382728, 0.        , 0.06559319, 0.        , 0.        ,\n",
       "        0.09794243, 0.        , 0.        , 0.15803867, 0.        ,\n",
       "        0.        , 0.07901933, 0.        , 0.        , 0.06559319,\n",
       "        0.        , 0.        , 0.        , 0.        , 0.        ,\n",
       "        0.        , 0.        , 0.09794243, 0.        , 0.        ,\n",
       "        0.19588486, 0.        , 0.09794243, 0.        , 0.07901933,\n",
       "        0.        , 0.        , 0.07901933, 0.        , 0.        ,\n",
       "        0.        , 0.        , 0.07901933, 0.        , 0.        ,\n",
       "        0.09794243, 0.09794243, 0.        , 0.07901933, 0.09794243,\n",
       "        0.        , 0.09794243, 0.        , 0.19588486, 0.        ,\n",
       "        0.        , 0.        , 0.        , 0.        , 0.        ,\n",
       "        0.        , 0.        , 0.        , 0.        , 0.        ,\n",
       "        0.19588486],\n",
       "       [0.        , 0.04340305, 0.        , 0.09108617, 0.09108617,\n",
       "        0.09108617, 0.        , 0.        , 0.        , 0.        ,\n",
       "        0.09108617, 0.        , 0.09108617, 0.        , 0.09108617,\n",
       "        0.        , 0.        , 0.        , 0.1469755 , 0.        ,\n",
       "        0.        , 0.        , 0.09108617, 0.        , 0.18217234,\n",
       "        0.06100147, 0.        , 0.        , 0.        , 0.1469755 ,\n",
       "        0.        , 0.07348775, 0.        , 0.09108617, 0.        ,\n",
       "        0.        , 0.06100147, 0.18217234, 0.        , 0.09108617,\n",
       "        0.09108617, 0.07348775, 0.        , 0.1469755 , 0.09108617,\n",
       "        0.        , 0.        , 0.09108617, 0.        , 0.        ,\n",
       "        0.07348775, 0.        , 0.        , 0.        , 0.        ,\n",
       "        0.        , 0.09108617, 0.        , 0.        , 0.07348775,\n",
       "        0.09108617, 0.        , 0.        , 0.        , 0.        ,\n",
       "        0.        , 0.13020915, 0.        , 0.        , 0.09108617,\n",
       "        0.        , 0.        , 0.        , 0.        , 0.        ,\n",
       "        0.09108617, 0.        , 0.        , 0.        , 0.09108617,\n",
       "        0.        , 0.10263272, 0.18217234, 0.07348775, 0.09108617,\n",
       "        0.09108617, 0.        , 0.        , 0.        , 0.4409265 ,\n",
       "        0.        , 0.        , 0.36600883, 0.        , 0.09108617,\n",
       "        0.        , 0.        , 0.07348775, 0.09108617, 0.        ,\n",
       "        0.        , 0.        , 0.18300441, 0.        , 0.09108617,\n",
       "        0.        , 0.09108617, 0.09108617, 0.        , 0.09108617,\n",
       "        0.        , 0.07348775, 0.        , 0.        , 0.        ,\n",
       "        0.        , 0.09108617, 0.07348775, 0.        , 0.09108617,\n",
       "        0.09108617, 0.        , 0.        , 0.09108617, 0.22046325,\n",
       "        0.        , 0.        , 0.        , 0.        , 0.        ,\n",
       "        0.09108617, 0.        , 0.07348775, 0.09108617, 0.        ,\n",
       "        0.        , 0.06100147, 0.        , 0.        , 0.        ,\n",
       "        0.        , 0.        , 0.        , 0.        , 0.        ,\n",
       "        0.09108617, 0.        , 0.        , 0.        , 0.09108617,\n",
       "        0.        , 0.09108617, 0.09108617, 0.1469755 , 0.        ,\n",
       "        0.        , 0.09108617, 0.06100147, 0.09108617, 0.06100147,\n",
       "        0.        ]])"
      ]
     },
     "execution_count": 30,
     "metadata": {},
     "output_type": "execute_result"
    }
   ],
   "source": [
    "coba2"
   ]
  },
  {
   "cell_type": "markdown",
   "id": "55dec28f-a7c1-4806-b9cc-2b1a24b6a01d",
   "metadata": {},
   "source": [
    "## Modelling"
   ]
  },
  {
   "cell_type": "code",
   "execution_count": 24,
   "id": "90ebef16-6b6c-4170-b25a-78b6790f67c7",
   "metadata": {},
   "outputs": [],
   "source": [
    "def create_siamese_network(input_shape, input_shape2):\n",
    "    input_a = Input(shape=input_shape)\n",
    "    input_b = Input(shape=input_shape2)\n",
    "\n",
    "    embedding = Embedding(input_dim=10000, output_dim=128)  # Modify input_dim based on vocabulary size\n",
    "\n",
    "    lstm = LSTM(64)\n",
    "\n",
    "    encoded_a = lstm(embedding(input_a))\n",
    "    encoded_b = lstm(embedding(input_b))\n",
    "\n",
    "    # Calculate cosine similarity\n",
    "    cosine_similarity = Lambda(lambda tensors: K.sum(tensors[0] * tensors[1], axis=1) /\n",
    "                                       (K.sqrt(K.sum(K.square(tensors[0]), axis=1)) *\n",
    "                                        K.sqrt(K.sum(K.square(tensors[1]), axis=1))),\n",
    "                              output_shape=(1,))\n",
    "\n",
    "    similarity = cosine_similarity([encoded_a, encoded_b])\n",
    "\n",
    "    siamese_network = Model(inputs=[input_a, input_b], outputs=similarity)\n",
    "\n",
    "    return siamese_network\n",
    "\n",
    "def find_nearest_similarity(df1, df2):\n",
    "    # Preprocess text data\n",
    "    vectors1 = preprocess_text_data(df1['summary'])\n",
    "    vectors2 = preprocess_text_data(df2['problem'])\n",
    "\n",
    "    # Create Siamese network\n",
    "    input_shape = vectors1.shape[1:]\n",
    "    input_shape2 = vectors2.shape[1:]\n",
    "    siamese_network = create_siamese_network(input_shape, input_shape2)\n",
    "\n",
    "    # Calculate cosine similarity using Siamese network\n",
    "    similarity_pairs = []\n",
    "\n",
    "    for i, (index1, row1) in enumerate(df1.iterrows()):\n",
    "        similarities = []\n",
    "\n",
    "        for j, (index2, row2) in enumerate(df2.iterrows()):\n",
    "            pair = (vectors1[i].reshape(1, -1), vectors2[j].reshape(1, -1))\n",
    "            similarity = siamese_network.predict(pair)\n",
    "            similarities.append(similarity)\n",
    "\n",
    "        max_similarity_index = np.argmax(similarities)\n",
    "        max_similarity = similarities[max_similarity_index]\n",
    "        similarity_pairs.append((index1, df2.index[max_similarity_index], max_similarity))\n",
    "\n",
    "    return similarity_pairs\n"
   ]
  },
  {
   "cell_type": "code",
   "execution_count": 26,
   "id": "aef0ed63-7fc7-413e-bc24-d2b5de1b2124",
   "metadata": {},
   "outputs": [
    {
     "name": "stderr",
     "output_type": "stream",
     "text": [
      "2023-06-02 18:49:02.626589: I tensorflow/core/common_runtime/executor.cc:1197] [/device:CPU:0] (DEBUG INFO) Executor start aborting (this does not indicate an error and you can ignore this message): INVALID_ARGUMENT: You must feed a value for placeholder tensor 'gradients/split_2_grad/concat/split_2/split_dim' with dtype int32\n",
      "\t [[{{node gradients/split_2_grad/concat/split_2/split_dim}}]]\n",
      "2023-06-02 18:49:02.627388: I tensorflow/core/common_runtime/executor.cc:1197] [/device:CPU:0] (DEBUG INFO) Executor start aborting (this does not indicate an error and you can ignore this message): INVALID_ARGUMENT: You must feed a value for placeholder tensor 'gradients/split_grad/concat/split/split_dim' with dtype int32\n",
      "\t [[{{node gradients/split_grad/concat/split/split_dim}}]]\n",
      "2023-06-02 18:49:02.628778: I tensorflow/core/common_runtime/executor.cc:1197] [/device:CPU:0] (DEBUG INFO) Executor start aborting (this does not indicate an error and you can ignore this message): INVALID_ARGUMENT: You must feed a value for placeholder tensor 'gradients/split_1_grad/concat/split_1/split_dim' with dtype int32\n",
      "\t [[{{node gradients/split_1_grad/concat/split_1/split_dim}}]]\n",
      "2023-06-02 18:49:02.726930: I tensorflow/core/common_runtime/executor.cc:1197] [/device:CPU:0] (DEBUG INFO) Executor start aborting (this does not indicate an error and you can ignore this message): INVALID_ARGUMENT: You must feed a value for placeholder tensor 'gradients/split_2_grad/concat/split_2/split_dim' with dtype int32\n",
      "\t [[{{node gradients/split_2_grad/concat/split_2/split_dim}}]]\n",
      "2023-06-02 18:49:02.727739: I tensorflow/core/common_runtime/executor.cc:1197] [/device:CPU:0] (DEBUG INFO) Executor start aborting (this does not indicate an error and you can ignore this message): INVALID_ARGUMENT: You must feed a value for placeholder tensor 'gradients/split_grad/concat/split/split_dim' with dtype int32\n",
      "\t [[{{node gradients/split_grad/concat/split/split_dim}}]]\n",
      "2023-06-02 18:49:02.728422: I tensorflow/core/common_runtime/executor.cc:1197] [/device:CPU:0] (DEBUG INFO) Executor start aborting (this does not indicate an error and you can ignore this message): INVALID_ARGUMENT: You must feed a value for placeholder tensor 'gradients/split_1_grad/concat/split_1/split_dim' with dtype int32\n",
      "\t [[{{node gradients/split_1_grad/concat/split_1/split_dim}}]]\n"
     ]
    },
    {
     "name": "stdout",
     "output_type": "stream",
     "text": [
      "1/1 [==============================] - ETA: 0s"
     ]
    },
    {
     "name": "stderr",
     "output_type": "stream",
     "text": [
      "2023-06-02 18:49:02.869241: I tensorflow/core/common_runtime/executor.cc:1197] [/device:CPU:0] (DEBUG INFO) Executor start aborting (this does not indicate an error and you can ignore this message): INVALID_ARGUMENT: You must feed a value for placeholder tensor 'gradients/split_2_grad/concat/split_2/split_dim' with dtype int32\n",
      "\t [[{{node gradients/split_2_grad/concat/split_2/split_dim}}]]\n",
      "2023-06-02 18:49:02.870718: I tensorflow/core/common_runtime/executor.cc:1197] [/device:CPU:0] (DEBUG INFO) Executor start aborting (this does not indicate an error and you can ignore this message): INVALID_ARGUMENT: You must feed a value for placeholder tensor 'gradients/split_grad/concat/split/split_dim' with dtype int32\n",
      "\t [[{{node gradients/split_grad/concat/split/split_dim}}]]\n",
      "2023-06-02 18:49:02.871632: I tensorflow/core/common_runtime/executor.cc:1197] [/device:CPU:0] (DEBUG INFO) Executor start aborting (this does not indicate an error and you can ignore this message): INVALID_ARGUMENT: You must feed a value for placeholder tensor 'gradients/split_1_grad/concat/split_1/split_dim' with dtype int32\n",
      "\t [[{{node gradients/split_1_grad/concat/split_1/split_dim}}]]\n",
      "2023-06-02 18:49:02.963343: I tensorflow/core/common_runtime/executor.cc:1197] [/device:CPU:0] (DEBUG INFO) Executor start aborting (this does not indicate an error and you can ignore this message): INVALID_ARGUMENT: You must feed a value for placeholder tensor 'gradients/split_2_grad/concat/split_2/split_dim' with dtype int32\n",
      "\t [[{{node gradients/split_2_grad/concat/split_2/split_dim}}]]\n",
      "2023-06-02 18:49:02.964196: I tensorflow/core/common_runtime/executor.cc:1197] [/device:CPU:0] (DEBUG INFO) Executor start aborting (this does not indicate an error and you can ignore this message): INVALID_ARGUMENT: You must feed a value for placeholder tensor 'gradients/split_grad/concat/split/split_dim' with dtype int32\n",
      "\t [[{{node gradients/split_grad/concat/split/split_dim}}]]\n",
      "2023-06-02 18:49:02.965162: I tensorflow/core/common_runtime/executor.cc:1197] [/device:CPU:0] (DEBUG INFO) Executor start aborting (this does not indicate an error and you can ignore this message): INVALID_ARGUMENT: You must feed a value for placeholder tensor 'gradients/split_1_grad/concat/split_1/split_dim' with dtype int32\n",
      "\t [[{{node gradients/split_1_grad/concat/split_1/split_dim}}]]\n"
     ]
    },
    {
     "name": "stdout",
     "output_type": "stream",
     "text": [
      "1/1 [==============================] - 0s 315ms/step\n",
      "1/1 [==============================] - 0s 36ms/step\n",
      "1/1 [==============================] - 0s 27ms/step\n",
      "1/1 [==============================] - 0s 30ms/step\n",
      "1/1 [==============================] - 0s 41ms/step\n",
      "1/1 [==============================] - 0s 25ms/step\n",
      "1/1 [==============================] - 0s 42ms/step\n",
      "1/1 [==============================] - 0s 45ms/step\n",
      "1/1 [==============================] - 0s 26ms/step\n",
      "1/1 [==============================] - 0s 31ms/step\n",
      "1/1 [==============================] - 0s 24ms/step\n",
      "1/1 [==============================] - 0s 23ms/step\n",
      "1/1 [==============================] - 0s 29ms/step\n",
      "1/1 [==============================] - 0s 24ms/step\n",
      "1/1 [==============================] - 0s 44ms/step\n",
      "1/1 [==============================] - 0s 47ms/step\n",
      "1/1 [==============================] - 0s 23ms/step\n",
      "1/1 [==============================] - 0s 22ms/step\n",
      "1/1 [==============================] - 0s 42ms/step\n",
      "1/1 [==============================] - 0s 29ms/step\n",
      "1/1 [==============================] - 0s 23ms/step\n",
      "1/1 [==============================] - 0s 31ms/step\n",
      "1/1 [==============================] - 0s 44ms/step\n",
      "1/1 [==============================] - 0s 23ms/step\n",
      "1/1 [==============================] - 0s 40ms/step\n",
      "1/1 [==============================] - 0s 38ms/step\n",
      "1/1 [==============================] - 0s 29ms/step\n",
      "1/1 [==============================] - 0s 23ms/step\n",
      "1/1 [==============================] - 0s 29ms/step\n",
      "1/1 [==============================] - 0s 38ms/step\n",
      "1/1 [==============================] - 0s 39ms/step\n",
      "1/1 [==============================] - 0s 23ms/step\n",
      "1/1 [==============================] - 0s 38ms/step\n",
      "1/1 [==============================] - 0s 37ms/step\n",
      "1/1 [==============================] - 0s 39ms/step\n",
      "1/1 [==============================] - 0s 39ms/step\n",
      "1/1 [==============================] - 0s 27ms/step\n",
      "1/1 [==============================] - 0s 37ms/step\n",
      "1/1 [==============================] - 0s 25ms/step\n",
      "1/1 [==============================] - 0s 24ms/step\n",
      "1/1 [==============================] - 0s 23ms/step\n",
      "1/1 [==============================] - 0s 23ms/step\n",
      "1/1 [==============================] - 0s 40ms/step\n",
      "1/1 [==============================] - 0s 20ms/step\n",
      "1/1 [==============================] - 0s 20ms/step\n",
      "1/1 [==============================] - 0s 28ms/step\n",
      "1/1 [==============================] - 0s 28ms/step\n",
      "1/1 [==============================] - 0s 37ms/step\n",
      "1/1 [==============================] - 0s 35ms/step\n",
      "1/1 [==============================] - 0s 37ms/step\n",
      "1/1 [==============================] - 0s 39ms/step\n",
      "1/1 [==============================] - 0s 27ms/step\n",
      "1/1 [==============================] - 0s 33ms/step\n",
      "1/1 [==============================] - 0s 36ms/step\n",
      "1/1 [==============================] - 0s 40ms/step\n",
      "Similarity pair: [Fundamental Course (1)], [desa aimoli, alor], Similarity: [1.]\n",
      "Similarity pair: [Fundamental Course (2)], [desa aimoli, alor], Similarity: [1.]\n",
      "Similarity pair: [Fundamental Course (3)], [desa aimoli, alor], Similarity: [1.]\n",
      "Similarity pair: [Indonesia Sustainability Coral Reef University Network (ISCORE)], [desa aimoli, alor], Similarity: [1.]\n",
      "Similarity pair: [Ecotourism], [desa aimoli, alor], Similarity: [1.]\n",
      "Similarity pair: [Moringa Academy], [desa aimoli, alor], Similarity: [1.]\n",
      "Similarity pair: [Indonesia Sustainable Social Forestry Education Program (IS-FREE)], [desa aimoli, alor], Similarity: [1.]\n",
      "Similarity pair: [Waste Management], [desa aimoli, alor], Similarity: [1.]\n",
      "Similarity pair: [Integrated Farming], [desa aimoli, alor], Similarity: [1.]\n",
      "Similarity pair: [Solar Academy], [desa aimoli, alor], Similarity: [1.]\n",
      "Similarity pair: [Program Startup], [desa aimoli, alor], Similarity: [1.]\n"
     ]
    }
   ],
   "source": [
    "similarity_pairs = find_nearest_similarity(course_clean, prob_clean)\n",
    "\n",
    "for pair in similarity_pairs:\n",
    "    index1, index2, similarity = pair\n",
    "    print(\"Similarity pair: [{}], [{}], Similarity: {}\".format(index1, index2, similarity))"
   ]
  },
  {
   "cell_type": "code",
   "execution_count": null,
   "id": "fa442688-aef4-4f1f-a63d-dc279a55bd79",
   "metadata": {},
   "outputs": [],
   "source": []
  },
  {
   "cell_type": "code",
   "execution_count": null,
   "id": "7b67f186-1a55-4693-9e74-7eddf5ffadcd",
   "metadata": {},
   "outputs": [],
   "source": []
  }
 ],
 "metadata": {
  "kernelspec": {
   "display_name": "Python [conda env:tf]",
   "language": "python",
   "name": "conda-env-tf-py"
  },
  "language_info": {
   "codemirror_mode": {
    "name": "ipython",
    "version": 3
   },
   "file_extension": ".py",
   "mimetype": "text/x-python",
   "name": "python",
   "nbconvert_exporter": "python",
   "pygments_lexer": "ipython3",
   "version": "3.10.9"
  }
 },
 "nbformat": 4,
 "nbformat_minor": 5
}
